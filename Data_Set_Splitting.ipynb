{
 "cells": [
  {
   "cell_type": "markdown",
   "id": "ea6c349b-0ac0-4201-b909-6ed67a13d476",
   "metadata": {},
   "source": [
    "# Notebook to perform data splitting for train/test & val\n",
    "We plan to use a single train/test data set as our models will use cross validation in order to train, which should help give some idea of how well the model generalizes initially. "
   ]
  },
  {
   "cell_type": "code",
   "execution_count": 19,
   "id": "c231282e-8b3b-407f-9107-576a8aa4ba04",
   "metadata": {},
   "outputs": [],
   "source": [
    "import pandas as pd\n",
    "from rdkit import Chem\n",
    "from sklearn.model_selection import train_test_split\n",
    "\n",
    "from rdkit.Chem import AllChem\n",
    "import numpy as np\n",
    "from tqdm import tqdm\n",
    "import os\n",
    "tqdm.pandas()\n",
    "np.random.seed(0)"
   ]
  },
  {
   "cell_type": "code",
   "execution_count": 60,
   "id": "efc4b94f-e408-40fc-bfbf-7b76bd48a31d",
   "metadata": {},
   "outputs": [],
   "source": [
    "path='data_cleaned'\n",
    "out_path='data_split_rand'\n",
    "out_path_cluster='data_split_cluster'\n",
    "files=os.listdir(path)\n",
    "data_map={\n",
    "    'HIV.csv': {'target':'HIV_active','structure':'smiles'},\n",
    "    'bace.csv':{'target':'active','structure':'mol'},\n",
    "    'tox21.csv':{'target':'NR-AhR','structure':'smiles'},\n",
    "    'clintox.csv':{'target':'CT_TOX','structure':'smiles'},\n",
    "    'sol_del.csv':{'target':'binned_sol','structure':'smiles'},\n",
    "    'deepchem_Lipophilicity.csv':{'target':'drug_like','structure':'smiles'}   \n",
    "}\n",
    "\n",
    "validation_size=0.15"
   ]
  },
  {
   "cell_type": "code",
   "execution_count": 30,
   "id": "b5ae80c0-f570-4a85-8f95-5473c7631e75",
   "metadata": {},
   "outputs": [],
   "source": [
    "# test file \n",
    "df=pd.read_csv(os.path.join(path,'bace.csv'))"
   ]
  },
  {
   "cell_type": "code",
   "execution_count": 23,
   "id": "d77be196-af2a-43b5-a247-75c7e15354a2",
   "metadata": {},
   "outputs": [],
   "source": [
    "def generate_fingerprint(smiles,radius,bits):\n",
    "    try:\n",
    "        mol=Chem.MolFromSmiles(smiles)\n",
    "        fp=AllChem.GetMorganFingerprintAsBitVect(mol,radius,bits)\n",
    "        return(np.array(fp))\n",
    "    except:\n",
    "        print(f'{smiles} failed in RDkit')\n",
    "        return (np.nan)"
   ]
  },
  {
   "cell_type": "code",
   "execution_count": 32,
   "id": "83476082-c45d-441c-9524-180be7668ad7",
   "metadata": {},
   "outputs": [],
   "source": [
    "# Generate the morgan finger prints and drop any rows that don't convert to a mol, or those that don't have a target value\n",
    "radius=2\n",
    "bits=1024\n",
    "df['fp'] = df['mol'].apply(lambda x: generate_fingerprint(x,radius,bits))\n",
    "df.dropna(subset=['fp','active'],inplace=True)"
   ]
  },
  {
   "cell_type": "markdown",
   "id": "a905c86f-72e9-4568-aa93-70cedf3e6b33",
   "metadata": {},
   "source": [
    "# Random split:"
   ]
  },
  {
   "cell_type": "code",
   "execution_count": 49,
   "id": "df6a4390-5526-464a-a7b5-5baa080b86a2",
   "metadata": {},
   "outputs": [],
   "source": [
    "df_train, df_validate = train_test_split(df,test_size=validation_size,random_state=0)"
   ]
  },
  {
   "cell_type": "code",
   "execution_count": 53,
   "id": "fd888dae-69c3-4ebd-a5c7-2feafef83333",
   "metadata": {},
   "outputs": [
    {
     "name": "stdout",
     "output_type": "stream",
     "text": [
      "(1286, 598)\n",
      "1    856\n",
      "0    430\n",
      "Name: active, dtype: int64\n"
     ]
    }
   ],
   "source": [
    "print(df_train.shape)\n",
    "print(df_train['active'].value_counts())\n",
    "#df_train.head(2)"
   ]
  },
  {
   "cell_type": "code",
   "execution_count": 52,
   "id": "44a8498d-f265-4e14-bcab-d84ad0a71a07",
   "metadata": {},
   "outputs": [
    {
     "name": "stdout",
     "output_type": "stream",
     "text": [
      "(227, 598)\n",
      "1    156\n",
      "0     71\n",
      "Name: active, dtype: int64\n"
     ]
    }
   ],
   "source": [
    "print(df_validate.shape)\n",
    "print(df_validate['active'].value_counts())\n",
    "#df_validate.head(2)"
   ]
  },
  {
   "cell_type": "code",
   "execution_count": 62,
   "id": "274cf5e2-e1d5-4f1b-b269-d1b1c229d782",
   "metadata": {},
   "outputs": [],
   "source": [
    "dataset='bace'\n",
    "df_train.to_csv(os.path.join(out_path,f'{dataset}_train.csv'))\n",
    "df_validate.to_csv(os.path.join(out_path,f'{dataset}_validate.csv'))"
   ]
  },
  {
   "cell_type": "markdown",
   "id": "d72931ed-6069-4aef-bb8d-ba23bd1cb355",
   "metadata": {},
   "source": [
    "# Clustered Split\n",
    "To make the split more realistic and understand how well the model will generalize to new data, let's also look at a split based on the data clusters. The goal is to minimize overlap in terms of chemical structure between the two data sets. This will effectively make it much harder for a model that just memorizes certain aspects of the potent scaffolds for instance."
   ]
  },
  {
   "cell_type": "code",
   "execution_count": 71,
   "id": "e7ab2371-8f77-4071-a4bd-b18592e20a7f",
   "metadata": {},
   "outputs": [],
   "source": [
    "from sklearn.cluster import MiniBatchKMeans\n",
    "clusters=int(df.shape[0]/30)\n",
    "kmeans = MiniBatchKMeans(n_clusters=clusters,random_state=0,batch_size=100).fit(df['fp'].to_list())"
   ]
  },
  {
   "cell_type": "code",
   "execution_count": 73,
   "id": "11be81bc-300d-4f94-bda6-f890c7c6df6a",
   "metadata": {},
   "outputs": [],
   "source": [
    "df['cluster']=kmeans.labels_"
   ]
  },
  {
   "cell_type": "code",
   "execution_count": 74,
   "id": "325fc925-9785-423e-9928-801fd3820154",
   "metadata": {},
   "outputs": [
    {
     "data": {
      "text/plain": [
       "9     157\n",
       "25     82\n",
       "7      79\n",
       "8      75\n",
       "12     67\n",
       "36     67\n",
       "39     62\n",
       "3      57\n",
       "27     54\n",
       "34     47\n",
       "35     45\n",
       "18     37\n",
       "16     36\n",
       "49     36\n",
       "48     35\n",
       "10     34\n",
       "5      33\n",
       "30     33\n",
       "33     33\n",
       "17     30\n",
       "19     29\n",
       "6      28\n",
       "32     28\n",
       "22     27\n",
       "38     25\n",
       "26     24\n",
       "13     21\n",
       "40     20\n",
       "14     18\n",
       "28     18\n",
       "46     16\n",
       "43     15\n",
       "42     15\n",
       "23     15\n",
       "2      14\n",
       "20     12\n",
       "15     11\n",
       "37     10\n",
       "4      10\n",
       "45      9\n",
       "31      8\n",
       "44      8\n",
       "1       8\n",
       "47      7\n",
       "0       4\n",
       "29      4\n",
       "21      4\n",
       "24      2\n",
       "41      2\n",
       "11      2\n",
       "Name: cluster, dtype: int64"
      ]
     },
     "execution_count": 74,
     "metadata": {},
     "output_type": "execute_result"
    }
   ],
   "source": [
    "df['cluster'].value_counts()"
   ]
  },
  {
   "cell_type": "code",
   "execution_count": 81,
   "id": "8c38694c-c700-4d0c-a7fe-330a90e00dc8",
   "metadata": {},
   "outputs": [],
   "source": [
    "# add these clusters to two groups, train and val:\n",
    "val_size=validation_size*len(df)\n",
    "df_cluster_train=pd.DataFrame()\n",
    "df_cluster_val=pd.DataFrame()\n",
    "for group, dataframe in df.groupby('cluster'):\n",
    "    if dataframe.shape[0] > val_size / 2:\n",
    "        df_cluster_train=pd.concat([df_cluster_train,dataframe])\n",
    "    elif len(df_cluster_val)+len(dataframe) <= val_size:\n",
    "        df_cluster_val=pd.concat([df_cluster_val,dataframe])\n",
    "    else:\n",
    "        df_cluster_train=pd.concat([df_cluster_train,dataframe])\n",
    "        "
   ]
  },
  {
   "cell_type": "code",
   "execution_count": 90,
   "id": "09622811-fbae-45e7-82ba-f3d80a313d29",
   "metadata": {},
   "outputs": [
    {
     "name": "stdout",
     "output_type": "stream",
     "text": [
      "(1287, 599)\n",
      "1    845\n",
      "0    442\n",
      "Name: active, dtype: int64\n"
     ]
    }
   ],
   "source": [
    "print(df_cluster_train.shape)\n",
    "print(df_cluster_train['active'].value_counts())"
   ]
  },
  {
   "cell_type": "code",
   "execution_count": 91,
   "id": "7193e681-1495-4a48-b603-132f894aceb5",
   "metadata": {},
   "outputs": [
    {
     "name": "stdout",
     "output_type": "stream",
     "text": [
      "(226, 599)\n",
      "1    167\n",
      "0     59\n",
      "Name: active, dtype: int64\n"
     ]
    }
   ],
   "source": [
    "print(df_cluster_val.shape)\n",
    "print(df_cluster_val['active'].value_counts())"
   ]
  },
  {
   "cell_type": "code",
   "execution_count": null,
   "id": "01a59cc1-eba9-4b30-950b-c66b649d79a8",
   "metadata": {},
   "outputs": [],
   "source": [
    "# class balance is a little off - tbd how much this matters:"
   ]
  },
  {
   "cell_type": "code",
   "execution_count": 92,
   "id": "26bb91aa-8f0a-417b-aeed-72c5409f1c60",
   "metadata": {},
   "outputs": [
    {
     "data": {
      "text/plain": [
       "0.6565656565656566"
      ]
     },
     "execution_count": 92,
     "metadata": {},
     "output_type": "execute_result"
    }
   ],
   "source": [
    "845/(845+442)"
   ]
  },
  {
   "cell_type": "code",
   "execution_count": 93,
   "id": "93daa5cf-7cee-42ad-bdce-2d6f68559126",
   "metadata": {},
   "outputs": [
    {
     "data": {
      "text/plain": [
       "0.7389380530973452"
      ]
     },
     "execution_count": 93,
     "metadata": {},
     "output_type": "execute_result"
    }
   ],
   "source": [
    "167/(167+59)"
   ]
  },
  {
   "cell_type": "code",
   "execution_count": 95,
   "id": "543b9c61-1b5f-4cc2-9377-4059f8ffcd46",
   "metadata": {},
   "outputs": [],
   "source": [
    "dataset='bace'\n",
    "df_cluster_train.to_csv(os.path.join(out_path_cluster,f'{dataset}_cluster_train.csv'))\n",
    "df_cluster_val.to_csv(os.path.join(out_path_cluster,f'{dataset}_cluster_validate.csv'))"
   ]
  },
  {
   "cell_type": "code",
   "execution_count": null,
   "id": "3e19e3e0-d834-484a-982c-cae273400602",
   "metadata": {},
   "outputs": [],
   "source": []
  }
 ],
 "metadata": {
  "kernelspec": {
   "display_name": "Python 3 (ipykernel)",
   "language": "python",
   "name": "python3"
  },
  "language_info": {
   "codemirror_mode": {
    "name": "ipython",
    "version": 3
   },
   "file_extension": ".py",
   "mimetype": "text/x-python",
   "name": "python",
   "nbconvert_exporter": "python",
   "pygments_lexer": "ipython3",
   "version": "3.10.5"
  }
 },
 "nbformat": 4,
 "nbformat_minor": 5
}
