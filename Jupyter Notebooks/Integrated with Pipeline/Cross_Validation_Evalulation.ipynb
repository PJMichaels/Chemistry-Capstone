{
 "cells": [
  {
   "cell_type": "markdown",
   "id": "6cb4896d-9125-4d48-9682-7c35bb0de72d",
   "metadata": {},
   "source": [
    "# This notebook is to explore the cross-validation results for the simple and complex models"
   ]
  },
  {
   "cell_type": "code",
   "execution_count": 5,
   "id": "8f0a0a4e-09ae-471c-90cf-422d35f37b74",
   "metadata": {},
   "outputs": [],
   "source": [
    "import pandas as pd\n",
    "import os"
   ]
  },
  {
   "cell_type": "code",
   "execution_count": 6,
   "id": "01ba592b-1cce-412e-a92c-1f8e5b5e3eeb",
   "metadata": {
    "tags": []
   },
   "outputs": [],
   "source": [
    "# Gather the simple model results into a dataframe:\n",
    "path='Simple_Models'\n",
    "dataset='bace-cluster'\n",
    "\n",
    "target=os.path.join(path,dataset)\n",
    "datasets=[i for i in os.listdir(path) if i.split('-')[-1]=='cluster']\n",
    "models=[i for i in os.listdir(target) if i.split('.')[-1]=='csv']"
   ]
  },
  {
   "cell_type": "code",
   "execution_count": 7,
   "id": "ff83b5ad-3a22-40aa-bfae-f9dccc8295a4",
   "metadata": {},
   "outputs": [],
   "source": [
    "#Scrape the results \n",
    "cv_results={}\n",
    "for dataset in datasets:\n",
    "    #print(dataset)\n",
    "    target=os.path.join(path,dataset)\n",
    "    models=[i for i in os.listdir(target) if i.split('.')[-1]=='csv']\n",
    "    model_results={}\n",
    "    for model in models:\n",
    "        df=pd.read_csv(os.path.join(target,model))\n",
    "        mean_roc_auc=df.iloc[1]['test_roc_auc'].round(2)\n",
    "        std_roc_auc=df.iloc[2]['test_roc_auc'].round(2)\n",
    "        result=f'{mean_roc_auc} \\u00B1 {std_roc_auc}'\n",
    "        model_results.update({model.replace('.csv',''):result})\n",
    "    cv_results.update({dataset:model_results})\n",
    "simple_model_df=pd.DataFrame(cv_results).T"
   ]
  },
  {
   "cell_type": "code",
   "execution_count": 8,
   "id": "7e312997-00b5-47a6-9f24-193ab4335f68",
   "metadata": {},
   "outputs": [
    {
     "name": "stdout",
     "output_type": "stream",
     "text": [
      "bace-cluster\n",
      "clintox-cluster\n",
      "lipophilicity-cluster\n",
      "sol_del-cluster\n",
      "tox21-cluster\n"
     ]
    }
   ],
   "source": [
    "# Repeat this for the Chemprop models:\n",
    "path='Complex_Models'\n",
    "\n",
    "for dataset in datasets:\n",
    "    print(dataset)\n",
    "    target=os.path.join(path,dataset)\n",
    "    models=['Chemprop']\n",
    "    model_results={}\n",
    "    for model in models:\n",
    "        #print(os.path.join(target,'test_scores.csv'))\n",
    "        df=pd.read_csv(os.path.join(target,'test_scores.csv'))\n",
    "        mean_roc_auc=df['Mean auc'].iloc[0].round(2)\n",
    "        std_roc_auc=df['Standard deviation auc'].iloc[0].round(2)\n",
    "        result=f'{mean_roc_auc} \\u00B1 {std_roc_auc}'\n",
    "        model_results.update({model.replace('.csv',''):result})\n",
    "    cv_results.update({dataset:model_results})\n",
    "complex_model_df=pd.DataFrame(cv_results).T"
   ]
  },
  {
   "cell_type": "code",
   "execution_count": 9,
   "id": "9d49a234-cd98-41c1-8b06-8e7cd16c103f",
   "metadata": {},
   "outputs": [
    {
     "data": {
      "text/html": [
       "<div>\n",
       "<style scoped>\n",
       "    .dataframe tbody tr th:only-of-type {\n",
       "        vertical-align: middle;\n",
       "    }\n",
       "\n",
       "    .dataframe tbody tr th {\n",
       "        vertical-align: top;\n",
       "    }\n",
       "\n",
       "    .dataframe thead th {\n",
       "        text-align: right;\n",
       "    }\n",
       "</style>\n",
       "<table border=\"1\" class=\"dataframe\">\n",
       "  <thead>\n",
       "    <tr style=\"text-align: right;\">\n",
       "      <th></th>\n",
       "      <th>DummyClassifier</th>\n",
       "      <th>GradientBoostingClassifier</th>\n",
       "      <th>KNeighborsClassifier</th>\n",
       "      <th>LogisticRegression</th>\n",
       "      <th>RandomForestClassifier</th>\n",
       "      <th>SVC</th>\n",
       "      <th>Chemprop</th>\n",
       "    </tr>\n",
       "  </thead>\n",
       "  <tbody>\n",
       "    <tr>\n",
       "      <th>bace-cluster</th>\n",
       "      <td>0.5 ± 0.0</td>\n",
       "      <td>0.74 ± 0.09</td>\n",
       "      <td>0.74 ± 0.08</td>\n",
       "      <td>0.74 ± 0.12</td>\n",
       "      <td>0.73 ± 0.11</td>\n",
       "      <td>0.7 ± 0.11</td>\n",
       "      <td>0.91 ± 0.02</td>\n",
       "    </tr>\n",
       "    <tr>\n",
       "      <th>clintox-cluster</th>\n",
       "      <td>0.5 ± 0.0</td>\n",
       "      <td>0.78 ± 0.01</td>\n",
       "      <td>0.58 ± 0.07</td>\n",
       "      <td>0.8 ± 0.07</td>\n",
       "      <td>0.74 ± 0.07</td>\n",
       "      <td>0.78 ± 0.07</td>\n",
       "      <td>0.79 ± 0.03</td>\n",
       "    </tr>\n",
       "    <tr>\n",
       "      <th>lipophilicity-cluster</th>\n",
       "      <td>0.5 ± 0.0</td>\n",
       "      <td>0.72 ± 0.12</td>\n",
       "      <td>0.63 ± 0.11</td>\n",
       "      <td>0.77 ± 0.1</td>\n",
       "      <td>0.68 ± 0.16</td>\n",
       "      <td>0.73 ± 0.09</td>\n",
       "      <td>0.86 ± 0.04</td>\n",
       "    </tr>\n",
       "    <tr>\n",
       "      <th>sol_del-cluster</th>\n",
       "      <td>0.5 ± 0.0</td>\n",
       "      <td>0.78 ± 0.1</td>\n",
       "      <td>0.7 ± 0.07</td>\n",
       "      <td>0.85 ± 0.08</td>\n",
       "      <td>0.79 ± 0.09</td>\n",
       "      <td>0.83 ± 0.07</td>\n",
       "      <td>0.93 ± 0.04</td>\n",
       "    </tr>\n",
       "    <tr>\n",
       "      <th>tox21-cluster</th>\n",
       "      <td>0.5 ± 0.0</td>\n",
       "      <td>0.82 ± 0.03</td>\n",
       "      <td>0.72 ± 0.06</td>\n",
       "      <td>0.81 ± 0.03</td>\n",
       "      <td>0.84 ± 0.04</td>\n",
       "      <td>0.76 ± 0.04</td>\n",
       "      <td>0.87 ± 0.01</td>\n",
       "    </tr>\n",
       "  </tbody>\n",
       "</table>\n",
       "</div>"
      ],
      "text/plain": [
       "                      DummyClassifier GradientBoostingClassifier  \\\n",
       "bace-cluster                0.5 ± 0.0                0.74 ± 0.09   \n",
       "clintox-cluster             0.5 ± 0.0                0.78 ± 0.01   \n",
       "lipophilicity-cluster       0.5 ± 0.0                0.72 ± 0.12   \n",
       "sol_del-cluster             0.5 ± 0.0                 0.78 ± 0.1   \n",
       "tox21-cluster               0.5 ± 0.0                0.82 ± 0.03   \n",
       "\n",
       "                      KNeighborsClassifier LogisticRegression  \\\n",
       "bace-cluster                   0.74 ± 0.08        0.74 ± 0.12   \n",
       "clintox-cluster                0.58 ± 0.07         0.8 ± 0.07   \n",
       "lipophilicity-cluster          0.63 ± 0.11         0.77 ± 0.1   \n",
       "sol_del-cluster                 0.7 ± 0.07        0.85 ± 0.08   \n",
       "tox21-cluster                  0.72 ± 0.06        0.81 ± 0.03   \n",
       "\n",
       "                      RandomForestClassifier          SVC     Chemprop  \n",
       "bace-cluster                     0.73 ± 0.11   0.7 ± 0.11  0.91 ± 0.02  \n",
       "clintox-cluster                  0.74 ± 0.07  0.78 ± 0.07  0.79 ± 0.03  \n",
       "lipophilicity-cluster            0.68 ± 0.16  0.73 ± 0.09  0.86 ± 0.04  \n",
       "sol_del-cluster                  0.79 ± 0.09  0.83 ± 0.07  0.93 ± 0.04  \n",
       "tox21-cluster                    0.84 ± 0.04  0.76 ± 0.04  0.87 ± 0.01  "
      ]
     },
     "execution_count": 9,
     "metadata": {},
     "output_type": "execute_result"
    }
   ],
   "source": [
    "merged_df=pd.merge(simple_model_df,complex_model_df,left_index=True,right_index=True)\n",
    "merged_df.to_csv('evaluation/cross_val_results.csv')\n",
    "merged_df"
   ]
  }
 ],
 "metadata": {
  "kernelspec": {
   "display_name": "Python 3.9.13 ('capstone3.9')",
   "language": "python",
   "name": "python3"
  },
  "language_info": {
   "codemirror_mode": {
    "name": "ipython",
    "version": 3
   },
   "file_extension": ".py",
   "mimetype": "text/x-python",
   "name": "python",
   "nbconvert_exporter": "python",
   "pygments_lexer": "ipython3",
   "version": "3.9.13"
  },
  "vscode": {
   "interpreter": {
    "hash": "4c4f4359cbd00efd9da0914ac51ba55447235b2a8439e4bf567804ab1066f578"
   }
  }
 },
 "nbformat": 4,
 "nbformat_minor": 5
}
