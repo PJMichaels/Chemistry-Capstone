{
 "cells": [
  {
   "cell_type": "code",
   "execution_count": 1,
   "metadata": {},
   "outputs": [],
   "source": [
    "#Load the Models:\n",
    "from sklearn.linear_model import LogisticRegression\n",
    "from sklearn.ensemble import RandomForestClassifier\n",
    "from sklearn.neighbors import KNeighborsClassifier\n",
    "from sklearn.ensemble import GradientBoostingClassifier\n",
    "from sklearn.svm import SVC\n",
    "\n",
    "\n",
    "#Load the Metrics:\n",
    "from sklearn.model_selection import cross_validate\n",
    "from sklearn.metrics import roc_auc_score\n",
    "from sklearn.metrics import accuracy_score\n",
    "from sklearn.metrics import f1_score\n",
    "from sklearn.metrics import log_loss\n",
    "\n",
    "\n",
    "from sklearn.model_selection import GridSearchCV\n",
    "from sklearn.model_selection import train_test_split\n",
    "\n",
    "import json\n",
    "import os\n",
    "import numpy as np\n",
    "import pandas as pd\n",
    "from rdkit import Chem\n",
    "from rdkit.Chem import AllChem\n",
    "from tqdm import tqdm\n",
    "tqdm.pandas()\n",
    "\n",
    "with open(\"params.json\", 'r') as f: \n",
    "    params = json.load(f)\n",
    "\n",
    "random_seed = 42"
   ]
  },
  {
   "cell_type": "code",
   "execution_count": 2,
   "metadata": {},
   "outputs": [],
   "source": [
    "def generate_fingerprint(smiles,radius,bits):\n",
    "    try:\n",
    "        mol=Chem.MolFromSmiles(smiles)\n",
    "        fp=AllChem.GetMorganFingerprintAsBitVect(mol,radius,bits)\n",
    "        return(np.array(fp))\n",
    "    except:\n",
    "        print(f'{smiles} failed in RDkit')\n",
    "        return (np.nan)"
   ]
  },
  {
   "cell_type": "code",
   "execution_count": 4,
   "metadata": {},
   "outputs": [
    {
     "name": "stderr",
     "output_type": "stream",
     "text": [
      " 85%|████████▌ | 35050/41127 [00:28<00:05, 1181.66it/s][09:48:25] WARNING: not removing hydrogen atom without neighbors\n",
      "[09:48:25] WARNING: not removing hydrogen atom without neighbors\n",
      "100%|██████████| 41127/41127 [00:34<00:00, 1203.32it/s]\n"
     ]
    },
    {
     "name": "stdout",
     "output_type": "stream",
     "text": [
      "Fitting 5 folds for each of 42 candidates, totalling 210 fits\n",
      "[CV 1/5] END ...........C=0.0001, kernel=linear;, score=0.965 total time=  35.2s\n",
      "[CV 2/5] END ...........C=0.0001, kernel=linear;, score=0.965 total time=  35.9s\n",
      "[CV 3/5] END ...........C=0.0001, kernel=linear;, score=0.965 total time=  34.6s\n",
      "[CV 4/5] END ...........C=0.0001, kernel=linear;, score=0.965 total time=  34.3s\n",
      "[CV 5/5] END ...........C=0.0001, kernel=linear;, score=0.965 total time=  33.7s\n",
      "[CV 1/5] END ............C=0.001, kernel=linear;, score=0.965 total time=  39.7s\n",
      "[CV 2/5] END ............C=0.001, kernel=linear;, score=0.965 total time=  39.6s\n",
      "[CV 3/5] END ............C=0.001, kernel=linear;, score=0.965 total time=  41.5s\n",
      "[CV 4/5] END ............C=0.001, kernel=linear;, score=0.965 total time=  45.2s\n",
      "[CV 5/5] END ............C=0.001, kernel=linear;, score=0.965 total time=  42.4s\n",
      "[CV 1/5] END ..............C=0.1, kernel=linear;, score=0.969 total time=  53.5s\n",
      "[CV 2/5] END ..............C=0.1, kernel=linear;, score=0.969 total time=  52.6s\n",
      "[CV 3/5] END ..............C=0.1, kernel=linear;, score=0.970 total time=  53.8s\n",
      "[CV 4/5] END ..............C=0.1, kernel=linear;, score=0.969 total time=  52.4s\n",
      "[CV 5/5] END ..............C=0.1, kernel=linear;, score=0.969 total time=  52.1s\n",
      "[CV 1/5] END ................C=1, kernel=linear;, score=0.969 total time= 2.2min\n",
      "[CV 2/5] END ................C=1, kernel=linear;, score=0.970 total time= 2.1min\n",
      "[CV 3/5] END ................C=1, kernel=linear;, score=0.970 total time= 2.2min\n",
      "[CV 4/5] END ................C=1, kernel=linear;, score=0.968 total time= 2.1min\n",
      "[CV 5/5] END ................C=1, kernel=linear;, score=0.969 total time= 2.2min\n"
     ]
    }
   ],
   "source": [
    "datasets=[i for i in os.listdir('data_cleaned') if i[-4:]=='.csv']\n",
    "\n",
    "data_map={\n",
    "    'HIV.csv': {'target':'HIV_active','structure':'smiles'},\n",
    "    'bace.csv':{'target':'active','structure':'mol'},\n",
    "    'tox21.csv':{'target':'NR-AhR','structure':'smiles'},\n",
    "    'clintox.csv':{'target':'CT_TOX','structure':'smiles'},\n",
    "    'sol_del.csv':{'target':'binned_sol','structure':'smiles'},\n",
    "    'deepchem_Lipophilicity.csv':{'target':'drug_like','structure':'smiles'}   \n",
    "}\n",
    "\n",
    "df = pd.read_csv(os.path.join( \"data_cleaned\",datasets[0]))\n",
    "\n",
    "radius=2\n",
    "bits=1024\n",
    "df=pd.read_csv('data_cleaned/HIV.csv')\n",
    "\n",
    "X=[generate_fingerprint(mol,2,1024) for mol in tqdm(df['smiles'])]\n",
    "y=df['HIV_active'].to_list()\n",
    "\n",
    "X_train, X_test, y_train, y_test = train_test_split(X, y, test_size=0.25, random_state=0)\n",
    "\n",
    "\n",
    "\n",
    "grid = GridSearchCV(eval(\"SVC\")(random_state = random_seed), params[\"models\"][\"SVC\"][\"param_grid\"], refit = True, verbose = 3)\n",
    "grid.fit(X_train, y_train)\n"
   ]
  },
  {
   "cell_type": "code",
   "execution_count": null,
   "metadata": {},
   "outputs": [],
   "source": []
  },
  {
   "cell_type": "code",
   "execution_count": 9,
   "metadata": {},
   "outputs": [
    {
     "ename": "TypeError",
     "evalue": "fit() missing 2 required positional arguments: 'X' and 'y'",
     "output_type": "error",
     "traceback": [
      "\u001b[1;31m---------------------------------------------------------------------------\u001b[0m",
      "\u001b[1;31mTypeError\u001b[0m                                 Traceback (most recent call last)",
      "\u001b[1;32mc:\\Users\\phili\\Python Projects\\Chemistry-Capstone\\Hyperparameter_tuning.ipynb Cell 3\u001b[0m in \u001b[0;36m<cell line: 1>\u001b[1;34m()\u001b[0m\n\u001b[1;32m----> <a href='vscode-notebook-cell:/c%3A/Users/phili/Python%20Projects/Chemistry-Capstone/Hyperparameter_tuning.ipynb#W2sZmlsZQ%3D%3D?line=0'>1</a>\u001b[0m clf\u001b[39m.\u001b[39;49mfit()\n",
      "\u001b[1;31mTypeError\u001b[0m: fit() missing 2 required positional arguments: 'X' and 'y'"
     ]
    }
   ],
   "source": [
    "clf.fit()"
   ]
  },
  {
   "cell_type": "code",
   "execution_count": null,
   "metadata": {},
   "outputs": [],
   "source": []
  }
 ],
 "metadata": {
  "kernelspec": {
   "display_name": "Python 3.9.13 ('chem39')",
   "language": "python",
   "name": "python3"
  },
  "language_info": {
   "codemirror_mode": {
    "name": "ipython",
    "version": 3
   },
   "file_extension": ".py",
   "mimetype": "text/x-python",
   "name": "python",
   "nbconvert_exporter": "python",
   "pygments_lexer": "ipython3",
   "version": "3.9.13"
  },
  "orig_nbformat": 4,
  "vscode": {
   "interpreter": {
    "hash": "13d23def5312c58a18488f106c23183de2ea1274f8e965396f8b86880f405ced"
   }
  }
 },
 "nbformat": 4,
 "nbformat_minor": 2
}
