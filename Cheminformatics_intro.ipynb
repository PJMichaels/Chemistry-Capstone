{
 "cells": [
  {
   "cell_type": "markdown",
   "id": "094c77fc-3742-42c4-9eef-c062e270a937",
   "metadata": {},
   "source": [
    "# Cheminformatics tutorial NB\n",
    "\n",
    "This notebook can be used to provide a brief introduction to some approaches to utilize chemical structure information in data science. This notebook pulls from examples found both in the RDkit documentation as well as some from other websources and are cited accordingly. "
   ]
  },
  {
   "cell_type": "code",
   "execution_count": 1,
   "id": "3449d2ca-f35a-4672-9522-7a809394070b",
   "metadata": {},
   "outputs": [],
   "source": [
    "from rdkit import Chem"
   ]
  },
  {
   "cell_type": "code",
   "execution_count": 34,
   "id": "2aed38d3-db09-4e74-8846-31425cfbc666",
   "metadata": {},
   "outputs": [
    {
     "data": {
      "image/png": "[encoded data removed]",
      "text/plain": [
       "<rdkit.Chem.rdchem.Mol at 0x168bc14e0>"
      ]
     },
     "execution_count": 34,
     "metadata": {},
     "output_type": "execute_result"
    }
   ],
   "source": [
    "# What is a molecule? Drawn as a 2D depiction\n",
    "benzene=Chem.MolFromSmiles('c1ccccc1') # Smiles representation (strings of letters/numbers/symobls)\n",
    "benzene"
   ]
  },
  {
   "cell_type": "code",
   "execution_count": 36,
   "id": "24901ba4-8027-465d-ad6a-b1192ba7734d",
   "metadata": {},
   "outputs": [
    {
     "data": {
      "image/png": "[encoded data removed]",
      "text/plain": [
       "<rdkit.Chem.rdchem.Mol at 0x1670ef100>"
      ]
     },
     "execution_count": 36,
     "metadata": {},
     "output_type": "execute_result"
    }
   ],
   "source": [
    "# A more complex molecule: Gleevec - a chemothereputic agent for leukemia (blood cancer)\n",
    "gleevec=Chem.MolFromSmiles('CC1=C(C=C(C=C1)NC(=O)C2=CC=C(C=C2)CN3CCN(CC3)C)NC4=NC=CC(=N4)C5=CN=CC=C5')\n",
    "gleevec"
   ]
  },
  {
   "cell_type": "code",
   "execution_count": 37,
   "id": "bcaa2b56-fdce-42c9-bfcd-97fd12d5d3e5",
   "metadata": {},
   "outputs": [],
   "source": [
    "from rdkit.Chem import AllChem\n",
    "import numpy as np\n",
    "np.set_printoptions(threshold=np.inf)"
   ]
  },
  {
   "cell_type": "code",
   "execution_count": 38,
   "id": "07aa75ba-f417-4177-99c8-b23bb4df3179",
   "metadata": {},
   "outputs": [
    {
     "data": {
      "text/plain": [
       "array([1, 0, 0, 1, 0, 0, 0, 0, 1, 0, 1, 0, 1, 1, 1, 1, 1, 0, 1, 1, 0, 0,\n",
       "       0, 0, 0, 1, 0, 1, 0, 0, 1, 1, 0, 0, 1, 0, 0, 1, 0, 1, 0, 0, 0, 1,\n",
       "       0, 1, 1, 1, 1, 0, 0, 0, 0, 0, 1, 1, 0, 0, 0, 1, 0, 0, 0, 0, 1, 0,\n",
       "       1, 0, 1, 1, 1, 0, 1, 1, 0, 1, 1, 1, 0, 0, 1, 0, 1, 1, 1, 1, 0, 0,\n",
       "       1, 1, 1, 1, 0, 0, 1, 1, 1, 1, 0, 1])"
      ]
     },
     "execution_count": 38,
     "metadata": {},
     "output_type": "execute_result"
    }
   ],
   "source": [
    "# We can represent a molecule as a fingerprint\n",
    "radius=2\n",
    "bits=100\n",
    "np.array(AllChem.GetMorganFingerprintAsBitVect(gleevec,radius,nBits=bits))\n",
    "# This will produce a vector based on the representation "
   ]
  },
  {
   "cell_type": "code",
   "execution_count": 39,
   "id": "38324b2d-27fc-419b-87fb-1e0e82a1bf97",
   "metadata": {},
   "outputs": [
    {
     "data": {
      "text/plain": [
       "array([0, 0, 0, 0, 0, 0, 0, 0, 0, 0, 0, 0, 0, 1, 0, 0, 0, 0, 0, 0, 0, 0,\n",
       "       0, 0, 0, 0, 0, 0, 0, 0, 0, 0, 0, 0, 0, 0, 0, 0, 0, 0, 0, 0, 0, 0,\n",
       "       0, 0, 0, 0, 0, 0, 0, 0, 0, 0, 0, 0, 0, 0, 0, 0, 0, 0, 0, 0, 0, 0,\n",
       "       0, 0, 0, 1, 0, 0, 0, 0, 0, 0, 0, 0, 0, 0, 0, 0, 0, 0, 1, 0, 0, 0,\n",
       "       0, 0, 0, 0, 0, 0, 0, 0, 0, 0, 0, 0])"
      ]
     },
     "execution_count": 39,
     "metadata": {},
     "output_type": "execute_result"
    }
   ],
   "source": [
    "np.array(AllChem.GetMorganFingerprintAsBitVect(benzene,radius,nBits=bits))"
   ]
  },
  {
   "cell_type": "code",
   "execution_count": 41,
   "id": "30c62b7e-f506-4d50-a0f0-1f7016ec03ad",
   "metadata": {},
   "outputs": [],
   "source": [
    "# Above we can see the difference reflected in the two finger prints.\n",
    "# normally, more bits are used to avoid collisions between different molecules"
   ]
  },
  {
   "cell_type": "code",
   "execution_count": 58,
   "id": "58b6ea67-277d-43b8-af19-b935493908e8",
   "metadata": {},
   "outputs": [
    {
     "data": {
      "text/plain": [
       "{0: ((31, 1),),\n",
       " 3: ((35, 2),),\n",
       " 8: ((1, 0), (2, 0), (4, 0), (10, 0), (13, 0), (25, 0), (29, 0), (31, 0)),\n",
       " 10: ((33, 2),),\n",
       " 12: ((29, 1),),\n",
       " 13: ((16, 1),),\n",
       " 14: ((25, 2),),\n",
       " 15: ((8, 0),),\n",
       " 16: ((7, 0), (24, 0), (17, 2)),\n",
       " 18: ((31, 2),),\n",
       " 19: ((24, 2),),\n",
       " 25: ((28, 2),),\n",
       " 27: ((8, 2),),\n",
       " 30: ((9, 0), (1, 2)),\n",
       " 31: ((20, 1),),\n",
       " 34: ((27, 1), (34, 1)),\n",
       " 37: ((0, 0), (23, 0), (32, 2)),\n",
       " 39: ((17, 0), (20, 0), (24, 1), (16, 2)),\n",
       " 43: ((1, 1), (6, 2), (26, 2)),\n",
       " 45: ((10, 2),),\n",
       " 46: ((7, 2),),\n",
       " 47: ((17, 1), (13, 2), (5, 2)),\n",
       " 48: ((18, 1), (19, 1), (21, 1), (26, 1), (22, 1)),\n",
       " 54: ((13, 1), (25, 1)),\n",
       " 55: ((30, 2),),\n",
       " 59: ((27, 2),),\n",
       " 64: ((2, 2),),\n",
       " 66: ((0, 1),),\n",
       " 68: ((7, 1),),\n",
       " 69: ((3, 0),\n",
       "  (5, 0),\n",
       "  (6, 0),\n",
       "  (11, 0),\n",
       "  (12, 0),\n",
       "  (14, 0),\n",
       "  (15, 0),\n",
       "  (27, 0),\n",
       "  (28, 0),\n",
       "  (32, 0),\n",
       "  (34, 0),\n",
       "  (35, 0),\n",
       "  (36, 0)),\n",
       " 70: ((5, 1), (11, 1), (12, 1), (14, 1), (28, 1), (6, 1), (15, 1), (36, 1)),\n",
       " 72: ((16, 0),),\n",
       " 73: ((3, 2),),\n",
       " 75: ((30, 1),),\n",
       " 76: ((2, 1),),\n",
       " 77: ((10, 1),),\n",
       " 80: ((20, 2), (36, 2)),\n",
       " 82: ((18, 2), (22, 2)),\n",
       " 83: ((33, 1),),\n",
       " 84: ((35, 1),),\n",
       " 85: ((34, 2),),\n",
       " 88: ((29, 2),),\n",
       " 89: ((9, 1),),\n",
       " 90: ((26, 0), (30, 0), (33, 0), (8, 1), (12, 2), (19, 2), (14, 2), (21, 2)),\n",
       " 91: ((4, 1),),\n",
       " 94: ((18, 0), (19, 0), (21, 0), (22, 0)),\n",
       " 95: ((32, 1),),\n",
       " 96: ((4, 2),),\n",
       " 97: ((23, 1), (11, 2), (15, 2)),\n",
       " 99: ((3, 1),)}"
      ]
     },
     "execution_count": 58,
     "metadata": {},
     "output_type": "execute_result"
    }
   ],
   "source": [
    "from rdkit.Chem import Draw # https://www.rdkit.org/docs/GettingStartedInPython.html\n",
    "bi = {}\n",
    "fp = AllChem.GetMorganFingerprintAsBitVect(gleevec, radius=2, bitInfo=bi,nBits=bits)\n",
    "bi\n"
   ]
  },
  {
   "cell_type": "code",
   "execution_count": 60,
   "id": "cb12ae6e-2dc9-433f-b8fc-8a7cf30a34b7",
   "metadata": {},
   "outputs": [
    {
     "data": {
      "image/svg+xml": "<svg xmlns=\"http://www.w3.org/2000/svg\" xmlns:rdkit=\"http://www.rdkit.org/xml\" xmlns:xlink=\"http://www.w3.org/1999/xlink\" version=\"1.1\" baseProfile=\"full\" xml:space=\"preserve\" width=\"150px\" height=\"150px\" viewBox=\"0 0 150 150\">\n<!-- END OF HEADER -->\n<rect style=\"opacity:1.0;fill:#FFFFFF;stroke:none\" width=\"150.0\" height=\"150.0\" x=\"0.0\" y=\"0.0\"> </rect>\n<ellipse cx=\"98.7\" cy=\"89.3\" rx=\"8.8\" ry=\"8.8\" class=\"atom-1\" style=\"fill:#E5E533;fill-rule:evenodd;stroke:#E5E533;stroke-width:1.0px;stroke-linecap:butt;stroke-linejoin:miter;stroke-opacity:1\"/>\n<ellipse cx=\"48.8\" cy=\"31.9\" rx=\"8.8\" ry=\"8.8\" class=\"atom-3\" style=\"fill:#E5E533;fill-rule:evenodd;stroke:#E5E533;stroke-width:1.0px;stroke-linecap:butt;stroke-linejoin:miter;stroke-opacity:1\"/>\n<ellipse cx=\"15.6\" cy=\"60.7\" rx=\"8.8\" ry=\"8.8\" class=\"atom-4\" style=\"fill:#E5E533;fill-rule:evenodd;stroke:#E5E533;stroke-width:1.0px;stroke-linecap:butt;stroke-linejoin:miter;stroke-opacity:1\"/>\n<ellipse cx=\"24.0\" cy=\"103.8\" rx=\"8.8\" ry=\"8.8\" class=\"atom-5\" style=\"fill:#9999E5;fill-rule:evenodd;stroke:#9999E5;stroke-width:1.0px;stroke-linecap:butt;stroke-linejoin:miter;stroke-opacity:1\"/>\n<ellipse cx=\"65.5\" cy=\"118.1\" rx=\"8.8\" ry=\"8.8\" class=\"atom-6\" style=\"fill:#E5E533;fill-rule:evenodd;stroke:#E5E533;stroke-width:1.0px;stroke-linecap:butt;stroke-linejoin:miter;stroke-opacity:1\"/>\n<path class=\"bond-0 atom-0 atom-1\" d=\"M 135.8,102.1 L 98.7,89.3\" style=\"fill:none;fill-rule:evenodd;stroke:#E5E5E5;stroke-width:2.3px;stroke-linecap:butt;stroke-linejoin:miter;stroke-opacity:1\"/>\n<path class=\"bond-1 atom-1 atom-2\" d=\"M 98.7,89.3 L 90.5,47.0\" style=\"fill:none;fill-rule:evenodd;stroke:#E5E5E5;stroke-width:2.3px;stroke-linecap:butt;stroke-linejoin:miter;stroke-opacity:1\"/>\n<path class=\"bond-1 atom-1 atom-2\" d=\"M 88.8,84.6 L 83.1,55.0\" style=\"fill:none;fill-rule:evenodd;stroke:#E5E5E5;stroke-width:2.3px;stroke-linecap:butt;stroke-linejoin:miter;stroke-opacity:1\"/>\n<path class=\"bond-2 atom-2 atom-3\" d=\"M 85.9,44.7 L 54.9,34.0\" style=\"fill:none;fill-rule:evenodd;stroke:#E5E5E5;stroke-width:2.3px;stroke-linecap:butt;stroke-linejoin:miter;stroke-opacity:1\"/>\n<path class=\"bond-3 atom-3 atom-4\" d=\"M 42.6,37.2 L 29.1,49.0\" style=\"fill:none;fill-rule:evenodd;stroke:#0000FF;stroke-width:2.0px;stroke-linecap:butt;stroke-linejoin:miter;stroke-opacity:1\"/>\n<path class=\"bond-3 atom-3 atom-4\" d=\"M 29.1,49.0 L 15.6,60.7\" style=\"fill:none;fill-rule:evenodd;stroke:#000000;stroke-width:2.0px;stroke-linecap:butt;stroke-linejoin:miter;stroke-opacity:1\"/>\n<path class=\"bond-3 atom-3 atom-4\" d=\"M 44.3,47.4 L 34.9,55.6\" style=\"fill:none;fill-rule:evenodd;stroke:#0000FF;stroke-width:2.0px;stroke-linecap:butt;stroke-linejoin:miter;stroke-opacity:1\"/>\n<path class=\"bond-3 atom-3 atom-4\" d=\"M 34.9,55.6 L 25.4,63.8\" style=\"fill:none;fill-rule:evenodd;stroke:#000000;stroke-width:2.0px;stroke-linecap:butt;stroke-linejoin:miter;stroke-opacity:1\"/>\n<path class=\"bond-4 atom-4 atom-5\" d=\"M 15.6,60.7 L 24.0,103.8\" style=\"fill:none;fill-rule:evenodd;stroke:#000000;stroke-width:2.0px;stroke-linecap:butt;stroke-linejoin:miter;stroke-opacity:1\"/>\n<path class=\"bond-5 atom-5 atom-6\" d=\"M 24.0,103.8 L 65.5,118.1\" style=\"fill:none;fill-rule:evenodd;stroke:#000000;stroke-width:2.0px;stroke-linecap:butt;stroke-linejoin:miter;stroke-opacity:1\"/>\n<path class=\"bond-5 atom-5 atom-6\" d=\"M 33.1,97.7 L 62.2,107.7\" style=\"fill:none;fill-rule:evenodd;stroke:#000000;stroke-width:2.0px;stroke-linecap:butt;stroke-linejoin:miter;stroke-opacity:1\"/>\n<path class=\"bond-6 atom-6 atom-1\" d=\"M 65.5,118.1 L 98.7,89.3\" style=\"fill:none;fill-rule:evenodd;stroke:#000000;stroke-width:2.0px;stroke-linecap:butt;stroke-linejoin:miter;stroke-opacity:1\"/>\n<path class=\"atom-0\" d=\"M 137.9 102.2 L 139.7 100.4 L 137.3 99.9 L 137.7 98.6 L 139.9 99.8 L 139.6 97.3 L 140.9 97.3 L 140.5 99.7 L 142.8 98.7 L 143.2 99.9 L 140.7 100.3 L 142.5 102.2 L 141.4 103.0 L 140.2 100.7 L 139.0 103.0 L 137.9 102.2 \" fill=\"#191919\"/>\n<path class=\"atom-2\" d=\"M 88.0 44.8 L 89.8 42.9 L 87.4 42.4 L 87.7 41.2 L 90.0 42.3 L 89.7 39.9 L 91.0 39.9 L 90.6 42.3 L 92.9 41.2 L 93.3 42.4 L 90.8 42.9 L 92.6 44.8 L 91.5 45.5 L 90.3 43.2 L 89.0 45.5 L 88.0 44.8 \" fill=\"#191919\"/>\n<path class=\"atom-3\" d=\"M 46.0 25.6 L 50.1 32.2 Q 50.5 32.9, 51.2 34.1 Q 51.8 35.2, 51.8 35.3 L 51.8 25.6 L 53.5 25.6 L 53.5 38.1 L 51.8 38.1 L 47.4 30.9 Q 46.9 30.0, 46.4 29.1 Q 45.8 28.1, 45.7 27.8 L 45.7 38.1 L 44.1 38.1 L 44.1 25.6 L 46.0 25.6 \" fill=\"#0000FF\"/>\n</svg>",
      "text/plain": [
       "<IPython.core.display.SVG object>"
      ]
     },
     "execution_count": 60,
     "metadata": {},
     "output_type": "execute_result"
    }
   ],
   "source": [
    "# Show what structure is tied to this fingerprint:\n",
    "mfp2_svg = Draw.DrawMorganBit(mol, 3, bi, useSVG=True)\n",
    "mfp2_svg"
   ]
  },
  {
   "cell_type": "code",
   "execution_count": 61,
   "id": "e3ad6891-b2a4-4ad6-a58a-d26a516d444d",
   "metadata": {},
   "outputs": [],
   "source": [
    "# These fingerprints can then be used as a molecular representation to perform common data science tasks"
   ]
  },
  {
   "cell_type": "code",
   "execution_count": 72,
   "id": "cf995a14-d1dd-42b8-8a5e-8f18b137621b",
   "metadata": {},
   "outputs": [
    {
     "name": "stdout",
     "output_type": "stream",
     "text": [
      "0.06\n"
     ]
    }
   ],
   "source": [
    "# For example we can compare the similarity between two vectors:\n",
    "from rdkit import DataStructs\n",
    "benzene_fp=AllChem.GetMorganFingerprintAsBitVect(benzene, radius=2, bitInfo=bi,nBits=bits)\n",
    "gleevec_fp=AllChem.GetMorganFingerprintAsBitVect(gleevec, radius=2, bitInfo=bi,nBits=bits)\n",
    "print(DataStructs.TanimotoSimilarity(benzene_fp,gleevec_fp))\n",
    "# https://jcheminf.biomedcentral.com/articles/10.1186/s13321-015-0069-3"
   ]
  },
  {
   "cell_type": "code",
   "execution_count": 86,
   "id": "152755b0-f9d9-41de-a9f2-089d066d63e8",
   "metadata": {},
   "outputs": [
    {
     "data": {
      "image/png": "[encoded data removed]",
      "text/plain": [
       "<IPython.core.display.Image object>"
      ]
     },
     "execution_count": 86,
     "metadata": {},
     "output_type": "execute_result"
    }
   ],
   "source": [
    "# compare two molecules that are more similar:\n",
    "pyridine=Chem.MolFromSmiles('c1ncccc1')\n",
    "pyridine_fp=AllChem.GetMorganFingerprintAsBitVect(pyridine, radius=2, nBits=bits)\n",
    "pyridine.SetProp('name','pyridine')\n",
    "benzene.SetProp('name','benzene')\n",
    "Draw.MolsToGridImage([benzene,pyridine],molsPerRow=2,subImgSize=(200,200),legends=[x.GetProp(\"name\") for x in [benzene,pyridine]])"
   ]
  },
  {
   "cell_type": "code",
   "execution_count": 75,
   "id": "8104964c-2c5f-407b-9060-f0f78b033c01",
   "metadata": {},
   "outputs": [
    {
     "data": {
      "text/plain": [
       "0.3333333333333333"
      ]
     },
     "execution_count": 75,
     "metadata": {},
     "output_type": "execute_result"
    }
   ],
   "source": [
    "DataStructs.TanimotoSimilarity(pyridine_fp,benzene_fp) # these are much more similar"
   ]
  },
  {
   "cell_type": "code",
   "execution_count": null,
   "id": "f2d071db-fa11-4ffe-a256-55607c54d279",
   "metadata": {},
   "outputs": [],
   "source": []
  }
 ],
 "metadata": {
  "kernelspec": {
   "display_name": "Python 3.9.13 ('capstone3.9')",
   "language": "python",
   "name": "python3"
  },
  "language_info": {
   "codemirror_mode": {
    "name": "ipython",
    "version": 3
   },
   "file_extension": ".py",
   "mimetype": "text/x-python",
   "name": "python",
   "nbconvert_exporter": "python",
   "pygments_lexer": "ipython3",
   "version": "3.9.13"
  },
  "vscode": {
   "interpreter": {
    "hash": "4c4f4359cbd00efd9da0914ac51ba55447235b2a8439e4bf567804ab1066f578"
   }
  }
 },
 "nbformat": 4,
 "nbformat_minor": 5
}
