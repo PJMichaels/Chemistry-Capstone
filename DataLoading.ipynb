{
 "cells": [
  {
   "cell_type": "markdown",
   "id": "a1d89e3b-83fb-48a3-a8d6-08ba4df0c71f",
   "metadata": {},
   "source": [
    "# Notebook to build to test DVC and pull data"
   ]
  },
  {
   "cell_type": "code",
   "execution_count": 4,
   "id": "0d0b47a9-f219-42f8-b13f-6c3726b8b92e",
   "metadata": {},
   "outputs": [],
   "source": [
    "import pandas as pd\n",
    "from rdkit import Chem\n",
    "import numpy as np\n",
    "import os"
   ]
  },
  {
   "cell_type": "code",
   "execution_count": 5,
   "id": "4b371ce6-6840-4d1f-80e5-d64d6ea440d1",
   "metadata": {},
   "outputs": [
    {
     "data": {
      "text/plain": [
       "['Untitled.ipynb',\n",
       " 'cmd_cheatsheet.txt',\n",
       " '.dvc',\n",
       " 'README.md',\n",
       " 'dave_test.txt',\n",
       " '.gitignore',\n",
       " 'test.txt',\n",
       " '.ipynb_checkpoints',\n",
       " '.git',\n",
       " 'dave_test',\n",
       " 'data',\n",
       " 'Setup.txt',\n",
       " 'Chemistry-Capstone',\n",
       " '.dvcignore',\n",
       " 'src']"
      ]
     },
     "execution_count": 5,
     "metadata": {},
     "output_type": "execute_result"
    }
   ],
   "source": [
    "os.listdir()"
   ]
  },
  {
   "cell_type": "code",
   "execution_count": null,
   "id": "de82cbab-ff71-4f22-a0b6-272c090730a9",
   "metadata": {},
   "outputs": [],
   "source": []
  }
 ],
 "metadata": {
  "kernelspec": {
   "display_name": "Python 3 (ipykernel)",
   "language": "python",
   "name": "python3"
  },
  "language_info": {
   "codemirror_mode": {
    "name": "ipython",
    "version": 3
   },
   "file_extension": ".py",
   "mimetype": "text/x-python",
   "name": "python",
   "nbconvert_exporter": "python",
   "pygments_lexer": "ipython3",
   "version": "3.10.5"
  }
 },
 "nbformat": 4,
 "nbformat_minor": 5
}
