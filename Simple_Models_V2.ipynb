{
 "cells": [
  {
   "cell_type": "code",
   "execution_count": 5,
   "id": "1db9f3fa-43e3-4b02-bfb6-e9571614b60c",
   "metadata": {},
   "outputs": [],
   "source": [
    "import pandas as pd\n",
    "from rdkit import Chem\n",
    "# discussion of circular fingerprints: https://pubs.acs.org/doi/10.1021/ci100050t\n",
    "from rdkit.Chem import AllChem\n",
    "import numpy as np\n",
    "from tqdm import tqdm\n",
    "tqdm.pandas()\n",
    "import os\n",
    "\n",
    "#Other fingerprint types to explore? \n",
    "#useful example: https://medium.com/@gurkamaldeol/predicting-environmental-carcinogens-with-logistic-regression-knn-gradient-boosting-and-7973f88eb8b3"
   ]
  },
  {
   "cell_type": "code",
   "execution_count": 16,
   "id": "31dea7f2-73ea-4714-95f8-8c0e64d7ff2e",
   "metadata": {},
   "outputs": [
    {
     "data": {
      "text/plain": [
       "['deepchem_Lipophilicity.csv',\n",
       " 'sol_del.csv',\n",
       " 'HIV.csv',\n",
       " 'clintox.csv',\n",
       " 'bace.csv',\n",
       " 'tox21.csv']"
      ]
     },
     "execution_count": 16,
     "metadata": {},
     "output_type": "execute_result"
    }
   ],
   "source": [
    "datasets=[i for i in os.listdir('data_cleaned') if i[-4:]=='.csv']\n",
    "datasets"
   ]
  },
  {
   "cell_type": "code",
   "execution_count": 17,
   "id": "b36a46d6-99e9-4235-81dc-2a35dd46be0a",
   "metadata": {},
   "outputs": [],
   "source": [
    "data_map={\n",
    "    'HIV.csv': {'target':'HIV_active','structure':'smiles'},\n",
    "    'bace.csv':{'target':'active','structure':'mol'},\n",
    "    'tox21.csv':{'target':'NR-AhR','structure':'smiles'},\n",
    "    'cintox.csv':{'target':'CT_TOX','structure':'smiles'},\n",
    "    'Solubility_delaney-processed.csv':{'target':'binned_sol','structure':'smiles'},\n",
    "    'deepchem_Lipophilicity.csv':{'target':'drug_like','structure':'smiles'}   \n",
    "}"
   ]
  },
  {
   "cell_type": "code",
   "execution_count": 18,
   "id": "5be1c378-9a1f-496d-8a73-f368dcda3a51",
   "metadata": {},
   "outputs": [
    {
     "data": {
      "text/plain": [
       "{'target': 'drug_like', 'structure': 'smiles'}"
      ]
     },
     "execution_count": 18,
     "metadata": {},
     "output_type": "execute_result"
    }
   ],
   "source": [
    "data_map[datasets[0]]"
   ]
  },
  {
   "cell_type": "code",
   "execution_count": 19,
   "id": "432b67c6-f690-4f5d-b2d8-53669cc4b4b6",
   "metadata": {},
   "outputs": [],
   "source": [
    "def generate_fingerprint(smiles,radius,bits):\n",
    "    mol=Chem.MolFromSmiles(smiles)\n",
    "    fp=AllChem.GetMorganFingerprintAsBitVect(mol,radius,bits)\n",
    "    return(np.array(fp))"
   ]
  },
  {
   "cell_type": "code",
   "execution_count": 20,
   "id": "30155930-9711-4cc4-bdc3-90c8b4309e5a",
   "metadata": {},
   "outputs": [
    {
     "data": {
      "text/plain": [
       "array([0, 0, 0, ..., 0, 0, 0])"
      ]
     },
     "execution_count": 20,
     "metadata": {},
     "output_type": "execute_result"
    }
   ],
   "source": [
    "# test this: \n",
    "generate_fingerprint('C=C=C',2,1024)"
   ]
  },
  {
   "cell_type": "code",
   "execution_count": 21,
   "id": "59b2a8fe-e20f-4089-97ea-8c74c62f37ef",
   "metadata": {},
   "outputs": [
    {
     "name": "stderr",
     "output_type": "stream",
     "text": [
      " 85%|██████████████████████████████▋     | 35106/41127 [00:39<00:06, 869.71it/s][18:14:43] WARNING: not removing hydrogen atom without neighbors\n",
      "[18:14:43] WARNING: not removing hydrogen atom without neighbors\n",
      "100%|████████████████████████████████████| 41127/41127 [00:46<00:00, 876.07it/s]\n"
     ]
    },
    {
     "data": {
      "text/html": [
       "<div>\n",
       "<style scoped>\n",
       "    .dataframe tbody tr th:only-of-type {\n",
       "        vertical-align: middle;\n",
       "    }\n",
       "\n",
       "    .dataframe tbody tr th {\n",
       "        vertical-align: top;\n",
       "    }\n",
       "\n",
       "    .dataframe thead th {\n",
       "        text-align: right;\n",
       "    }\n",
       "</style>\n",
       "<table border=\"1\" class=\"dataframe\">\n",
       "  <thead>\n",
       "    <tr style=\"text-align: right;\">\n",
       "      <th></th>\n",
       "      <th>Unnamed: 0</th>\n",
       "      <th>smiles</th>\n",
       "      <th>activity</th>\n",
       "      <th>HIV_active</th>\n",
       "      <th>fp</th>\n",
       "    </tr>\n",
       "  </thead>\n",
       "  <tbody>\n",
       "    <tr>\n",
       "      <th>0</th>\n",
       "      <td>0</td>\n",
       "      <td>CCC1=[O+][Cu-3]2([O+]=C(CC)C1)[O+]=C(CC)CC(CC)...</td>\n",
       "      <td>CI</td>\n",
       "      <td>0</td>\n",
       "      <td>[0, 0, 0, 0, 0, 0, 0, 0, 0, 0, 0, 0, 0, 0, 0, ...</td>\n",
       "    </tr>\n",
       "    <tr>\n",
       "      <th>1</th>\n",
       "      <td>1</td>\n",
       "      <td>C(=Cc1ccccc1)C1=[O+][Cu-3]2([O+]=C(C=Cc3ccccc3...</td>\n",
       "      <td>CI</td>\n",
       "      <td>0</td>\n",
       "      <td>[0, 0, 0, 0, 0, 0, 0, 0, 0, 0, 0, 0, 0, 0, 0, ...</td>\n",
       "    </tr>\n",
       "  </tbody>\n",
       "</table>\n",
       "</div>"
      ],
      "text/plain": [
       "   Unnamed: 0                                             smiles activity  \\\n",
       "0           0  CCC1=[O+][Cu-3]2([O+]=C(CC)C1)[O+]=C(CC)CC(CC)...       CI   \n",
       "1           1  C(=Cc1ccccc1)C1=[O+][Cu-3]2([O+]=C(C=Cc3ccccc3...       CI   \n",
       "\n",
       "   HIV_active                                                 fp  \n",
       "0           0  [0, 0, 0, 0, 0, 0, 0, 0, 0, 0, 0, 0, 0, 0, 0, ...  \n",
       "1           0  [0, 0, 0, 0, 0, 0, 0, 0, 0, 0, 0, 0, 0, 0, 0, ...  "
      ]
     },
     "execution_count": 21,
     "metadata": {},
     "output_type": "execute_result"
    }
   ],
   "source": [
    "# build a test case with HIV data:\n",
    "radius=2\n",
    "bits=1024\n",
    "df=pd.read_csv('data_cleaned/HIV.csv')\n",
    "df['fp']=df['smiles'].progress_apply(lambda x: generate_fingerprint(x,radius,bits))\n",
    "df.head(2)"
   ]
  },
  {
   "cell_type": "code",
   "execution_count": 24,
   "id": "8b987f35-8e48-4d9e-9789-a353412dd2b9",
   "metadata": {},
   "outputs": [
    {
     "name": "stderr",
     "output_type": "stream",
     "text": [
      " 85%|██████████████████████████████▋     | 35058/41127 [00:39<00:06, 868.46it/s][18:20:34] WARNING: not removing hydrogen atom without neighbors\n",
      "[18:20:34] WARNING: not removing hydrogen atom without neighbors\n",
      "100%|████████████████████████████████████| 41127/41127 [00:46<00:00, 875.91it/s]\n"
     ]
    }
   ],
   "source": [
    "# split the data:\n",
    "from sklearn.model_selection import train_test_split\n",
    "\n",
    "X=[generate_fingerprint(mol,2,1024) for mol in tqdm(df['smiles'])]\n",
    "y=df['HIV_active'].to_list()\n",
    "\n",
    "X_train, X_test, y_train, y_test = train_test_split(X, y, test_size=0.25, random_state=0)"
   ]
  },
  {
   "cell_type": "code",
   "execution_count": 36,
   "id": "3e167455-8dd3-4514-8112-0e554d956ac6",
   "metadata": {},
   "outputs": [],
   "source": [
    "from sklearn.linear_model import LogisticRegression\n",
    "from sklearn.model_selection import cross_validate\n",
    "from sklearn.metrics import roc_auc_score\n",
    "from sklearn.metrics import accuracy_score\n",
    "from sklearn.metrics import f1_score\n",
    "from sklearn.metrics import log_loss\n",
    "\n",
    "# Setup Cross validation:\n",
    "scoring = ['accuracy', 'f1','roc_auc','neg_log_loss']\n",
    "clf= LogisticRegression(random_state=0,solver='lbfgs',max_iter=1000,verbose=False)\n",
    "scores = cross_validate(clf, X_train, y_train, scoring=scoring, cv=5,return_train_score=True)"
   ]
  },
  {
   "cell_type": "code",
   "execution_count": 37,
   "id": "f5198485-34a9-4a96-bab7-5feecf5e5cee",
   "metadata": {},
   "outputs": [
    {
     "data": {
      "text/plain": [
       "{'fit_time': array([1.62300897, 1.75004601, 1.51937699, 1.66005206, 1.82311893]),\n",
       " 'score_time': array([0.0514369 , 0.05118299, 0.05176306, 0.05027509, 0.05627394]),\n",
       " 'test_accuracy': array([0.96887664, 0.96903874, 0.96839034, 0.96660723, 0.96660723]),\n",
       " 'train_accuracy': array([0.97442859, 0.97483385, 0.97479332, 0.97487437, 0.9747528 ]),\n",
       " 'test_f1': array([0.34693878, 0.36963696, 0.37299035, 0.33548387, 0.31333333]),\n",
       " 'train_f1': array([0.47980214, 0.49056604, 0.48595041, 0.49180328, 0.48976249]),\n",
       " 'test_roc_auc': array([0.78478334, 0.77768512, 0.79928576, 0.79040174, 0.78191513]),\n",
       " 'train_roc_auc': array([0.92498255, 0.9235879 , 0.9208621 , 0.9240289 , 0.9261204 ]),\n",
       " 'test_neg_log_loss': array([-0.1262743 , -0.12951498, -0.12225949, -0.12971206, -0.13112324]),\n",
       " 'train_neg_log_loss': array([-0.08466054, -0.0837571 , -0.08530654, -0.0841092 , -0.0839419 ])}"
      ]
     },
     "execution_count": 37,
     "metadata": {},
     "output_type": "execute_result"
    }
   ],
   "source": [
    "scores"
   ]
  },
  {
   "cell_type": "code",
   "execution_count": 38,
   "id": "aa62f474-74d7-4ace-9204-aa0558005cd9",
   "metadata": {},
   "outputs": [
    {
     "name": "stdout",
     "output_type": "stream",
     "text": [
      "fit_time 1.6751205921173096 +/- 0.10460982391149612\n",
      "score_time 0.05218639373779297 +/- 0.002102802175466697\n",
      "test_accuracy 0.9679040363105852 +/- 0.0010801317068541325\n",
      "train_accuracy 0.9747365861565893 +/- 0.0001592387964369198\n",
      "test_f1 0.34767665944107967 +/- 0.022143670389070835\n",
      "train_f1 0.487576872571201 +/- 0.0043512371238090255\n",
      "test_roc_auc 0.7868142181691768 +/- 0.007481654455841829\n",
      "train_roc_auc 0.9239163694543008 +/- 0.0017574744089441726\n",
      "test_neg_log_loss -0.12777681412501382 +/- 0.0031831865984096675\n",
      "train_neg_log_loss -0.08435505797364296 +/- 0.0005634421172886916\n"
     ]
    }
   ],
   "source": [
    "for score in scores:\n",
    "    print(score,scores[score].mean(),'+/-',scores[score].std())"
   ]
  },
  {
   "cell_type": "code",
   "execution_count": 72,
   "id": "ccdb4a6a-dfa9-4be1-8fca-1a510857a181",
   "metadata": {},
   "outputs": [],
   "source": [
    "from sklearn.linear_model import LogisticRegression\n",
    "clf = LogisticRegression(random_state=0,solver='lbfgs',max_iter=1000)\n",
    "clf.fit(X_train,y_train)\n",
    "y_train_pred=clf.predict(X_train)\n",
    "y_test_pred=clf.predict(X_test)\n",
    "\n"
   ]
  },
  {
   "cell_type": "code",
   "execution_count": 74,
   "id": "2b05747c-7b6e-43bd-8a34-466f8d8bff29",
   "metadata": {},
   "outputs": [],
   "source": [
    "# Score the model\n",
    "result={}\n",
    "from sklearn.metrics import accuracy_score\n",
    "from sklearn.metrics import f1_score\n",
    "\n",
    "result.update({'train':{'accuracy':accuracy_score(y_train, y_train_pred),\n",
    "                       'f1':f1_score(y_train, y_train_pred)}})\n",
    "\n",
    "result.update({'test':{'accuracy':accuracy_score(y_test, y_test_pred),\n",
    "                       'f1':f1_score(y_test, y_test_pred)}})\n"
   ]
  },
  {
   "cell_type": "code",
   "execution_count": 76,
   "id": "23fc76e9-e148-47a8-997b-3d0b787c7e16",
   "metadata": {},
   "outputs": [
    {
     "name": "stdout",
     "output_type": "stream",
     "text": [
      "Logistic Regression Result\n"
     ]
    },
    {
     "data": {
      "text/plain": [
       "{'train': {'accuracy': 0.9735775652455827, 'f1': 0.45702864756828776},\n",
       " 'test': {'accuracy': 0.9693639369772418, 'f1': 0.3835616438356164}}"
      ]
     },
     "execution_count": 76,
     "metadata": {},
     "output_type": "execute_result"
    }
   ],
   "source": [
    "print('Logistic Regression Result')\n",
    "result"
   ]
  },
  {
   "cell_type": "code",
   "execution_count": 77,
   "id": "728ec312-632b-4aef-8122-cb2f605cb9f1",
   "metadata": {},
   "outputs": [
    {
     "name": "stdout",
     "output_type": "stream",
     "text": [
      "Dummy Result\n"
     ]
    },
    {
     "data": {
      "text/plain": [
       "{'train': {'accuracy': 0.965051061760415, 'f1': 0.0},\n",
       " 'test': {'accuracy': 0.9645010698307722, 'f1': 0.0}}"
      ]
     },
     "execution_count": 77,
     "metadata": {},
     "output_type": "execute_result"
    }
   ],
   "source": [
    "from sklearn.dummy import DummyClassifier\n",
    "dummy_clf = DummyClassifier(strategy=\"most_frequent\")\n",
    "dummy_clf.fit(X_train, y_train)\n",
    "y_train_pred=dummy_clf.predict(X_train)\n",
    "y_test_pred=dummy_clf.predict(X_test)\n",
    "\n",
    "result_dummy={}\n",
    "from sklearn.metrics import accuracy_score\n",
    "from sklearn.metrics import f1_score\n",
    "\n",
    "result_dummy.update({'train':{'accuracy':accuracy_score(y_train, y_train_pred),\n",
    "                       'f1':f1_score(y_train, y_train_pred)}})\n",
    "\n",
    "result_dummy.update({'test':{'accuracy':accuracy_score(y_test, y_test_pred),\n",
    "                       'f1':f1_score(y_test, y_test_pred)}})\n",
    "print('Dummy Result')\n",
    "result_dummy"
   ]
  },
  {
   "cell_type": "code",
   "execution_count": 83,
   "id": "56dbcf94-4ec3-44bb-a11e-def22cee2512",
   "metadata": {},
   "outputs": [
    {
     "data": {
      "text/plain": [
       "0    39684\n",
       "1     1443\n",
       "Name: HIV_active, dtype: int64"
      ]
     },
     "execution_count": 83,
     "metadata": {},
     "output_type": "execute_result"
    }
   ],
   "source": [
    "df['HIV_active'].value_counts()"
   ]
  },
  {
   "cell_type": "code",
   "execution_count": 84,
   "id": "5e1dc09c-e773-4329-ac02-a3cb8d7444f0",
   "metadata": {},
   "outputs": [
    {
     "data": {
      "text/plain": [
       "0    0.964914\n",
       "1    0.035086\n",
       "Name: HIV_active, dtype: float64"
      ]
     },
     "execution_count": 84,
     "metadata": {},
     "output_type": "execute_result"
    }
   ],
   "source": [
    "df['HIV_active'].value_counts()/df.shape[0]"
   ]
  },
  {
   "cell_type": "code",
   "execution_count": null,
   "id": "8c4c3143-1bc1-41dc-918b-12e4c25756d3",
   "metadata": {},
   "outputs": [],
   "source": []
  }
 ],
 "metadata": {
  "kernelspec": {
   "display_name": "Python 3 (ipykernel)",
   "language": "python",
   "name": "python3"
  },
  "language_info": {
   "codemirror_mode": {
    "name": "ipython",
    "version": 3
   },
   "file_extension": ".py",
   "mimetype": "text/x-python",
   "name": "python",
   "nbconvert_exporter": "python",
   "pygments_lexer": "ipython3",
   "version": "3.10.5"
  },
  "vscode": {
   "interpreter": {
    "hash": "4c4f4359cbd00efd9da0914ac51ba55447235b2a8439e4bf567804ab1066f578"
   }
  }
 },
 "nbformat": 4,
 "nbformat_minor": 5
}
