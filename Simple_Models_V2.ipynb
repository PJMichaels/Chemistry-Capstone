{
 "cells": [
  {
   "cell_type": "code",
   "execution_count": 1,
   "id": "1db9f3fa-43e3-4b02-bfb6-e9571614b60c",
   "metadata": {},
   "outputs": [],
   "source": [
    "import pandas as pd\n",
    "from rdkit import Chem\n",
    "# discussion of circular fingerprints: https://pubs.acs.org/doi/10.1021/ci100050t\n",
    "from rdkit.Chem import AllChem\n",
    "import numpy as np\n",
    "from tqdm import tqdm\n",
    "tqdm.pandas()\n",
    "import os\n",
    "import pickle\n",
    "#Other fingerprint types to explore? \n",
    "#useful example: https://medium.com/@gurkamaldeol/predicting-environmental-carcinogens-with-logistic-regression-knn-gradient-boosting-and-7973f88eb8b3"
   ]
  },
  {
   "cell_type": "code",
   "execution_count": 2,
   "id": "31dea7f2-73ea-4714-95f8-8c0e64d7ff2e",
   "metadata": {},
   "outputs": [
    {
     "data": {
      "text/plain": [
       "['clintox.csv',\n",
       " 'sol_del.csv',\n",
       " 'HIV.csv',\n",
       " 'bace.csv',\n",
       " 'tox21.csv',\n",
       " 'deepchem_Lipophilicity.csv']"
      ]
     },
     "execution_count": 2,
     "metadata": {},
     "output_type": "execute_result"
    }
   ],
   "source": [
    "datasets=[i for i in os.listdir('data_cleaned') if i[-4:]=='.csv']\n",
    "datasets"
   ]
  },
  {
   "cell_type": "code",
   "execution_count": 8,
   "id": "b36a46d6-99e9-4235-81dc-2a35dd46be0a",
   "metadata": {},
   "outputs": [],
   "source": [
    "data_map={\n",
    "    'HIV.csv': {'target':'HIV_active','structure':'smiles'},\n",
    "    'bace.csv':{'target':'active','structure':'mol'},\n",
    "    'tox21.csv':{'target':'NR-AhR','structure':'smiles'},\n",
    "    'clintox.csv':{'target':'CT_TOX','structure':'smiles'},\n",
    "    'Solubility_delaney-processed.csv':{'target':'binned_sol','structure':'smiles'},\n",
    "    'deepchem_Lipophilicity.csv':{'target':'drug_like','structure':'smiles'}   \n",
    "}"
   ]
  },
  {
   "cell_type": "code",
   "execution_count": 9,
   "id": "5be1c378-9a1f-496d-8a73-f368dcda3a51",
   "metadata": {},
   "outputs": [
    {
     "data": {
      "text/plain": [
       "{'target': 'CT_TOX', 'structure': 'smiles'}"
      ]
     },
     "execution_count": 9,
     "metadata": {},
     "output_type": "execute_result"
    }
   ],
   "source": [
    "data_map[datasets[0]]"
   ]
  },
  {
   "cell_type": "code",
   "execution_count": 10,
   "id": "432b67c6-f690-4f5d-b2d8-53669cc4b4b6",
   "metadata": {},
   "outputs": [],
   "source": [
    "def generate_fingerprint(smiles,radius,bits):\n",
    "    mol=Chem.MolFromSmiles(smiles)\n",
    "    fp=AllChem.GetMorganFingerprintAsBitVect(mol,radius,bits)\n",
    "    return(np.array(fp))"
   ]
  },
  {
   "cell_type": "code",
   "execution_count": 11,
   "id": "30155930-9711-4cc4-bdc3-90c8b4309e5a",
   "metadata": {},
   "outputs": [
    {
     "data": {
      "text/plain": [
       "array([0, 0, 0, ..., 0, 0, 0])"
      ]
     },
     "execution_count": 11,
     "metadata": {},
     "output_type": "execute_result"
    }
   ],
   "source": [
    "# test this: \n",
    "generate_fingerprint('C=C=C',2,1024)"
   ]
  },
  {
   "cell_type": "code",
   "execution_count": 12,
   "id": "59b2a8fe-e20f-4089-97ea-8c74c62f37ef",
   "metadata": {},
   "outputs": [
    {
     "name": "stderr",
     "output_type": "stream",
     "text": [
      " 85%|██████████████████████████████████████████████████████▌         | 35075/41127 [00:31<00:07, 854.15it/s][15:53:33] WARNING: not removing hydrogen atom without neighbors\n",
      "[15:53:33] WARNING: not removing hydrogen atom without neighbors\n",
      "100%|███████████████████████████████████████████████████████████████| 41127/41127 [00:38<00:00, 1082.04it/s]\n"
     ]
    },
    {
     "data": {
      "text/html": [
       "<div>\n",
       "<style scoped>\n",
       "    .dataframe tbody tr th:only-of-type {\n",
       "        vertical-align: middle;\n",
       "    }\n",
       "\n",
       "    .dataframe tbody tr th {\n",
       "        vertical-align: top;\n",
       "    }\n",
       "\n",
       "    .dataframe thead th {\n",
       "        text-align: right;\n",
       "    }\n",
       "</style>\n",
       "<table border=\"1\" class=\"dataframe\">\n",
       "  <thead>\n",
       "    <tr style=\"text-align: right;\">\n",
       "      <th></th>\n",
       "      <th>Unnamed: 0</th>\n",
       "      <th>smiles</th>\n",
       "      <th>activity</th>\n",
       "      <th>HIV_active</th>\n",
       "      <th>fp</th>\n",
       "    </tr>\n",
       "  </thead>\n",
       "  <tbody>\n",
       "    <tr>\n",
       "      <th>0</th>\n",
       "      <td>0</td>\n",
       "      <td>CCC1=[O+][Cu-3]2([O+]=C(CC)C1)[O+]=C(CC)CC(CC)...</td>\n",
       "      <td>CI</td>\n",
       "      <td>0</td>\n",
       "      <td>[0, 0, 0, 0, 0, 0, 0, 0, 0, 0, 0, 0, 0, 0, 0, ...</td>\n",
       "    </tr>\n",
       "    <tr>\n",
       "      <th>1</th>\n",
       "      <td>1</td>\n",
       "      <td>C(=Cc1ccccc1)C1=[O+][Cu-3]2([O+]=C(C=Cc3ccccc3...</td>\n",
       "      <td>CI</td>\n",
       "      <td>0</td>\n",
       "      <td>[0, 0, 0, 0, 0, 0, 0, 0, 0, 0, 0, 0, 0, 0, 0, ...</td>\n",
       "    </tr>\n",
       "  </tbody>\n",
       "</table>\n",
       "</div>"
      ],
      "text/plain": [
       "   Unnamed: 0                                             smiles activity  \\\n",
       "0           0  CCC1=[O+][Cu-3]2([O+]=C(CC)C1)[O+]=C(CC)CC(CC)...       CI   \n",
       "1           1  C(=Cc1ccccc1)C1=[O+][Cu-3]2([O+]=C(C=Cc3ccccc3...       CI   \n",
       "\n",
       "   HIV_active                                                 fp  \n",
       "0           0  [0, 0, 0, 0, 0, 0, 0, 0, 0, 0, 0, 0, 0, 0, 0, ...  \n",
       "1           0  [0, 0, 0, 0, 0, 0, 0, 0, 0, 0, 0, 0, 0, 0, 0, ...  "
      ]
     },
     "execution_count": 12,
     "metadata": {},
     "output_type": "execute_result"
    }
   ],
   "source": [
    "# build a test case with HIV data:\n",
    "radius=2\n",
    "bits=1024\n",
    "df=pd.read_csv('data_cleaned/HIV.csv')\n",
    "df['fp']=df['smiles'].progress_apply(lambda x: generate_fingerprint(x,radius,bits))\n",
    "df.head(2)"
   ]
  },
  {
   "cell_type": "code",
   "execution_count": 13,
   "id": "8b987f35-8e48-4d9e-9789-a353412dd2b9",
   "metadata": {},
   "outputs": [
    {
     "name": "stderr",
     "output_type": "stream",
     "text": [
      " 85%|██████████████████████████████████████████████████████▌         | 35081/41127 [00:35<00:07, 801.38it/s][15:54:16] WARNING: not removing hydrogen atom without neighbors\n",
      "[15:54:16] WARNING: not removing hydrogen atom without neighbors\n",
      "100%|████████████████████████████████████████████████████████████████| 41127/41127 [00:42<00:00, 967.54it/s]\n"
     ]
    }
   ],
   "source": [
    "# split the data:\n",
    "from sklearn.model_selection import train_test_split\n",
    "\n",
    "X=[generate_fingerprint(mol,2,1024) for mol in tqdm(df['smiles'])]\n",
    "y=df['HIV_active'].to_list()\n",
    "\n",
    "X_train, X_test, y_train, y_test = train_test_split(X, y, test_size=0.25, random_state=0)"
   ]
  },
  {
   "cell_type": "code",
   "execution_count": 14,
   "id": "3e167455-8dd3-4514-8112-0e554d956ac6",
   "metadata": {},
   "outputs": [],
   "source": [
    "#Load the Models:\n",
    "from sklearn.linear_model import LogisticRegression\n",
    "from sklearn.ensemble import RandomForestClassifier\n",
    "from sklearn.neighbors import KNeighborsClassifier\n",
    "from sklearn.ensemble import GradientBoostingClassifier\n",
    "from sklearn.svm import SVC\n",
    "\n",
    "\n",
    "#Load the Metrics:\n",
    "from sklearn.model_selection import cross_validate\n",
    "from sklearn.metrics import roc_auc_score\n",
    "from sklearn.metrics import accuracy_score\n",
    "from sklearn.metrics import f1_score\n",
    "from sklearn.metrics import log_loss\n",
    "\n",
    "#RandomForestClassifier(max_depth=2, random_state=0)\n",
    "#KNeighborsClassifier(n_neighbors=5)\n",
    "#GradientBoostingClassifier(n_estimators=100, learning_rate=0.1, max_depth=1, random_state=0)\n",
    "#SVC(C=1.0, kernel='rbf', degree=3, gamma='scale',probability=True)\n",
    "\n",
    "\n",
    "# Setup Cross validation:\n",
    "scoring = ['accuracy', 'f1','roc_auc','neg_log_loss']\n",
    "clf= LogisticRegression(random_state=0,solver='lbfgs',max_iter=1000,verbose=False)\n",
    "scores = cross_validate(clf, X_train, y_train, scoring=scoring, cv=5,return_train_score=True)"
   ]
  },
  {
   "cell_type": "code",
   "execution_count": 15,
   "id": "f5198485-34a9-4a96-bab7-5feecf5e5cee",
   "metadata": {},
   "outputs": [
    {
     "data": {
      "text/plain": [
       "{'fit_time': array([3.04000521, 2.9063077 , 3.0485034 , 3.0406611 , 3.4751327 ]),\n",
       " 'score_time': array([0.13809896, 0.09592152, 0.10188508, 0.10339856, 0.10300469]),\n",
       " 'test_accuracy': array([0.96887664, 0.96920084, 0.96839034, 0.96660723, 0.96660723]),\n",
       " 'train_accuracy': array([0.97442859, 0.97483385, 0.97479332, 0.97487437, 0.9747528 ]),\n",
       " 'test_f1': array([0.34693878, 0.37086093, 0.37299035, 0.33548387, 0.31333333]),\n",
       " 'train_f1': array([0.47980214, 0.49056604, 0.48595041, 0.49180328, 0.48976249]),\n",
       " 'test_roc_auc': array([0.784781  , 0.77769059, 0.79928654, 0.79040174, 0.7819159 ]),\n",
       " 'train_roc_auc': array([0.92498168, 0.92358746, 0.92086244, 0.9240289 , 0.92612064]),\n",
       " 'test_neg_log_loss': array([-0.12627385, -0.12951767, -0.12225941, -0.12971206, -0.13112323]),\n",
       " 'train_neg_log_loss': array([-0.08466068, -0.08375676, -0.08530655, -0.0841092 , -0.0839419 ])}"
      ]
     },
     "execution_count": 15,
     "metadata": {},
     "output_type": "execute_result"
    }
   ],
   "source": [
    "scores"
   ]
  },
  {
   "cell_type": "code",
   "execution_count": 16,
   "id": "aa62f474-74d7-4ace-9204-aa0558005cd9",
   "metadata": {},
   "outputs": [
    {
     "name": "stdout",
     "output_type": "stream",
     "text": [
      "fit_time 3.1021220207214357 +/- 0.19390261435995465\n",
      "score_time 0.10846176147460937 +/- 0.015061801418536861\n",
      "test_accuracy 0.9679364564759281 +/- 0.0011155552299617674\n",
      "train_accuracy 0.9747365861565893 +/- 0.0001592387964369198\n",
      "test_f1 0.3479214521322693 +/- 0.02239047288697682\n",
      "train_f1 0.487576872571201 +/- 0.0043512371238090255\n",
      "test_roc_auc 0.7868151541942294 +/- 0.007480604993680964\n",
      "train_roc_auc 0.923916223603868 +/- 0.001757327127758757\n",
      "test_neg_log_loss -0.12777724372882976 +/- 0.0031835495035589636\n",
      "train_neg_log_loss -0.08435502050890412 +/- 0.0005635325103984394\n"
     ]
    }
   ],
   "source": [
    "for score in scores:\n",
    "    print(score,scores[score].mean(),'+/-',scores[score].std())"
   ]
  },
  {
   "cell_type": "code",
   "execution_count": 17,
   "id": "a461cee6-1831-40b7-804f-78bd32e68fe4",
   "metadata": {},
   "outputs": [],
   "source": [
    "#Load the Models:\n",
    "from sklearn.linear_model import LogisticRegression\n",
    "from sklearn.ensemble import RandomForestClassifier\n",
    "from sklearn.neighbors import KNeighborsClassifier\n",
    "from sklearn.ensemble import GradientBoostingClassifier\n",
    "from sklearn.svm import SVC\n",
    "\n",
    "\n",
    "#Load the Metrics:\n",
    "from sklearn.model_selection import cross_validate\n",
    "from sklearn.metrics import roc_auc_score\n",
    "from sklearn.metrics import accuracy_score\n",
    "from sklearn.metrics import f1_score\n",
    "from sklearn.metrics import log_loss\n",
    "\n",
    "scoring = ['accuracy', 'f1','roc_auc','neg_log_loss']\n",
    "\n",
    "models={'Logistic Regression':LogisticRegression(random_state=0,solver='lbfgs',max_iter=1000,verbose=False),\n",
    "        'Random Forest':RandomForestClassifier(max_depth=2, random_state=0),\n",
    "        'KNN': KNeighborsClassifier(n_neighbors=5, n_jobs=-1),\n",
    "        'Gradient Boosted Tree': GradientBoostingClassifier(n_estimators=100, learning_rate=0.1, max_depth=1, random_state=0),\n",
    "        'SVM':SVC(C=1.0, kernel='linear', degree=3, gamma='scale',probability=True),\n",
    "        'Dummy_Most_Frequent':DummyClassifier(strategy=\"most_frequent\")\n",
    "       }"
   ]
  },
  {
   "cell_type": "code",
   "execution_count": 18,
   "id": "e1198ef1-ce6c-4055-b648-a0c3656b50fa",
   "metadata": {},
   "outputs": [
    {
     "name": "stderr",
     "output_type": "stream",
     "text": [
      "  0%|                                                                                 | 0/5 [00:00<?, ?it/s]"
     ]
    },
    {
     "name": "stdout",
     "output_type": "stream",
     "text": [
      "TrainingLogistic Regression\n"
     ]
    },
    {
     "name": "stderr",
     "output_type": "stream",
     "text": [
      " 20%|██████████████▌                                                          | 1/5 [00:18<01:13, 18.42s/it]"
     ]
    },
    {
     "name": "stdout",
     "output_type": "stream",
     "text": [
      "TrainingRandom Forest\n"
     ]
    },
    {
     "name": "stderr",
     "output_type": "stream",
     "text": [
      " 40%|█████████████████████████████▏                                           | 2/5 [00:32<00:47, 15.70s/it]"
     ]
    },
    {
     "name": "stdout",
     "output_type": "stream",
     "text": [
      "TrainingKNN\n"
     ]
    },
    {
     "name": "stderr",
     "output_type": "stream",
     "text": [
      " 60%|███████████████████████████████████████████▏                            | 3/5 [07:44<06:51, 205.74s/it]"
     ]
    },
    {
     "name": "stdout",
     "output_type": "stream",
     "text": [
      "TrainingGradient Boosted Tree\n"
     ]
    },
    {
     "name": "stderr",
     "output_type": "stream",
     "text": [
      " 80%|█████████████████████████████████████████████████████████▌              | 4/5 [11:41<03:38, 218.32s/it]"
     ]
    },
    {
     "name": "stdout",
     "output_type": "stream",
     "text": [
      "TrainingSVM\n"
     ]
    },
    {
     "name": "stderr",
     "output_type": "stream",
     "text": [
      "100%|█████████████████████████████████████████████████████████████████████| 5/5 [1:40:14<00:00, 1202.91s/it]\n"
     ]
    }
   ],
   "source": [
    "scores_dict={}\n",
    "\n",
    "for model in tqdm(models):\n",
    "    print(f'Training{model}')\n",
    "    clf=models[model]\n",
    "    scores_dict.update({model : cross_validate(clf, X_train, y_train, scoring=scoring, cv=5,return_train_score=True)})\n"
   ]
  },
  {
   "cell_type": "code",
   "execution_count": 19,
   "id": "650c49b2-29c1-4e2c-9385-877e71e241e7",
   "metadata": {},
   "outputs": [
    {
     "data": {
      "text/plain": [
       "{'Logistic Regression': {'fit_time': array([2.87739778, 3.22573662, 2.98598957, 3.13190079, 3.74218917]),\n",
       "  'score_time': array([0.097754  , 0.10137129, 0.12909412, 0.10858965, 0.12678814]),\n",
       "  'test_accuracy': array([0.96887664, 0.96920084, 0.96839034, 0.96660723, 0.96660723]),\n",
       "  'train_accuracy': array([0.97442859, 0.97483385, 0.97479332, 0.97487437, 0.9747528 ]),\n",
       "  'test_f1': array([0.34693878, 0.37086093, 0.37299035, 0.33548387, 0.31333333]),\n",
       "  'train_f1': array([0.47980214, 0.49056604, 0.48595041, 0.49180328, 0.48976249]),\n",
       "  'test_roc_auc': array([0.784781  , 0.77769059, 0.79928654, 0.79040174, 0.7819159 ]),\n",
       "  'train_roc_auc': array([0.92498168, 0.92358746, 0.92086244, 0.9240289 , 0.92612064]),\n",
       "  'test_neg_log_loss': array([-0.12627385, -0.12951767, -0.12225941, -0.12971206, -0.13112323]),\n",
       "  'train_neg_log_loss': array([-0.08466068, -0.08375676, -0.08530655, -0.0841092 , -0.0839419 ])},\n",
       " 'Random Forest': {'fit_time': array([2.10604024, 2.17551517, 2.13161039, 2.16317821, 2.15692306]),\n",
       "  'score_time': array([0.12280726, 0.15934086, 0.11789751, 0.13085651, 0.13718867]),\n",
       "  'test_accuracy': array([0.96514832, 0.96514832, 0.96498622, 0.96498622, 0.96498622]),\n",
       "  'train_accuracy': array([0.96502675, 0.96502675, 0.96506727, 0.96506727, 0.96506727]),\n",
       "  'test_f1': array([0., 0., 0., 0., 0.]),\n",
       "  'train_f1': array([0., 0., 0., 0., 0.]),\n",
       "  'test_roc_auc': array([0.75242089, 0.72141457, 0.73046348, 0.70194416, 0.68709832]),\n",
       "  'train_roc_auc': array([0.73221004, 0.74724027, 0.73805239, 0.74080463, 0.74202167]),\n",
       "  'test_neg_log_loss': array([-0.14104863, -0.14074602, -0.14051308, -0.14209739, -0.14199767]),\n",
       "  'train_neg_log_loss': array([-0.14097265, -0.14025793, -0.14075867, -0.1402306 , -0.14017537])},\n",
       " 'KNN': {'fit_time': array([0.0690825 , 0.06623006, 0.06295323, 0.06440377, 0.06482172]),\n",
       "  'score_time': array([22.0323379 , 17.28761339, 15.44206977, 16.69029951, 18.37838101]),\n",
       "  'test_accuracy': array([0.97471227, 0.97098395, 0.96920084, 0.97065975, 0.97163236]),\n",
       "  'train_accuracy': array([0.97552278, 0.97576593, 0.97677906, 0.9760496 , 0.9763738 ]),\n",
       "  'test_f1': array([0.51851852, 0.49002849, 0.40625   , 0.45970149, 0.4648318 ]),\n",
       "  'train_f1': array([0.53963415, 0.55505952, 0.56425856, 0.56766642, 0.56910569]),\n",
       "  'test_roc_auc': array([0.80807001, 0.76234269, 0.79556409, 0.75664114, 0.78157605]),\n",
       "  'train_roc_auc': array([0.97963025, 0.98007277, 0.97951065, 0.97960972, 0.98025333]),\n",
       "  'test_neg_log_loss': array([-0.45634582, -0.56856146, -0.49922526, -0.5916455 , -0.53012412]),\n",
       "  'train_neg_log_loss': array([-0.05485815, -0.05452291, -0.05397943, -0.05459601, -0.05411831])},\n",
       " 'Gradient Boosted Tree': {'fit_time': array([46.95861053, 47.67455053, 47.51688147, 46.26439953, 46.35894537]),\n",
       "  'score_time': array([0.13197589, 0.11823297, 0.10261345, 0.10828328, 0.11194849]),\n",
       "  'test_accuracy': array([0.96628303, 0.96644513, 0.96693143, 0.96676933, 0.96595883]),\n",
       "  'train_accuracy': array([0.9665667 , 0.96689091, 0.96660723, 0.9665667 , 0.96685038]),\n",
       "  'test_f1': array([0.07142857, 0.1038961 , 0.12068966, 0.10480349, 0.07894737]),\n",
       "  'train_f1': array([0.09836066, 0.11866235, 0.10822511, 0.10617551, 0.11279826]),\n",
       "  'test_roc_auc': array([0.75025232, 0.71541899, 0.73627909, 0.71787801, 0.70158137]),\n",
       "  'train_roc_auc': array([0.74282794, 0.74885063, 0.74286241, 0.7507581 , 0.75054755]),\n",
       "  'test_neg_log_loss': array([-0.1280068 , -0.13076759, -0.12720886, -0.13182317, -0.13126469]),\n",
       "  'train_neg_log_loss': array([-0.12826218, -0.12736458, -0.12857638, -0.12714202, -0.1270377 ])},\n",
       " 'SVM': {'fit_time': array([ 507.43349743,  538.41339326,  812.90487838,  517.20181131,\n",
       "         2222.17545128]),\n",
       "  'score_time': array([23.69892693, 33.90911031, 48.28376031, 19.75456476, 33.66022992]),\n",
       "  'test_accuracy': array([0.96936294, 0.96952504, 0.97017345, 0.96806614, 0.96855244]),\n",
       "  'train_accuracy': array([0.97414492, 0.975077  , 0.97463122, 0.97479332, 0.97438807]),\n",
       "  'test_f1': array([0.33684211, 0.38157895, 0.35664336, 0.34113712, 0.30714286]),\n",
       "  'train_f1': array([0.45283019, 0.48962656, 0.46034483, 0.47993311, 0.4532872 ]),\n",
       "  'test_roc_auc': array([0.76512175, 0.76652124, 0.76370613, 0.76954702, 0.76724776]),\n",
       "  'train_roc_auc': array([0.88289282, 0.88682516, 0.8788396 , 0.8830694 , 0.88517366]),\n",
       "  'test_neg_log_loss': array([-0.1226184 , -0.12222043, -0.12300755, -0.1239162 , -0.12497804]),\n",
       "  'train_neg_log_loss': array([-0.10562916, -0.10293233, -0.10466464, -0.10300151, -0.10351826])}}"
      ]
     },
     "execution_count": 19,
     "metadata": {},
     "output_type": "execute_result"
    }
   ],
   "source": [
    "scores_dict"
   ]
  },
  {
   "cell_type": "code",
   "execution_count": 25,
   "id": "09e12428-cbc6-4ac6-810d-4efa331e521d",
   "metadata": {},
   "outputs": [
    {
     "name": "stdout",
     "output_type": "stream",
     "text": [
      "Logistic Regression\n",
      "fit_time 3.19 +/- 0.3\n",
      "score_time 0.11 +/- 0.01\n",
      "test_accuracy 0.97 +/- 0.0\n",
      "train_accuracy 0.97 +/- 0.0\n",
      "test_f1 0.35 +/- 0.02\n",
      "train_f1 0.49 +/- 0.0\n",
      "test_roc_auc 0.79 +/- 0.01\n",
      "train_roc_auc 0.92 +/- 0.0\n",
      "test_neg_log_loss -0.13 +/- 0.0\n",
      "train_neg_log_loss -0.08 +/- 0.0\n",
      "Random Forest\n",
      "fit_time 2.15 +/- 0.02\n",
      "score_time 0.13 +/- 0.01\n",
      "test_accuracy 0.97 +/- 0.0\n",
      "train_accuracy 0.97 +/- 0.0\n",
      "test_f1 0.0 +/- 0.0\n",
      "train_f1 0.0 +/- 0.0\n",
      "test_roc_auc 0.72 +/- 0.02\n",
      "train_roc_auc 0.74 +/- 0.0\n",
      "test_neg_log_loss -0.14 +/- 0.0\n",
      "train_neg_log_loss -0.14 +/- 0.0\n",
      "KNN\n",
      "fit_time 0.07 +/- 0.0\n",
      "score_time 17.97 +/- 2.24\n",
      "test_accuracy 0.97 +/- 0.0\n",
      "train_accuracy 0.98 +/- 0.0\n",
      "test_f1 0.47 +/- 0.04\n",
      "train_f1 0.56 +/- 0.01\n",
      "test_roc_auc 0.78 +/- 0.02\n",
      "train_roc_auc 0.98 +/- 0.0\n",
      "test_neg_log_loss -0.53 +/- 0.05\n",
      "train_neg_log_loss -0.05 +/- 0.0\n",
      "Gradient Boosted Tree\n",
      "fit_time 46.95 +/- 0.58\n",
      "score_time 0.11 +/- 0.01\n",
      "test_accuracy 0.97 +/- 0.0\n",
      "train_accuracy 0.97 +/- 0.0\n",
      "test_f1 0.1 +/- 0.02\n",
      "train_f1 0.11 +/- 0.01\n",
      "test_roc_auc 0.72 +/- 0.02\n",
      "train_roc_auc 0.75 +/- 0.0\n",
      "test_neg_log_loss -0.13 +/- 0.0\n",
      "train_neg_log_loss -0.13 +/- 0.0\n",
      "SVM\n",
      "fit_time 919.63 +/- 661.09\n",
      "score_time 31.86 +/- 9.9\n",
      "test_accuracy 0.97 +/- 0.0\n",
      "train_accuracy 0.97 +/- 0.0\n",
      "test_f1 0.34 +/- 0.02\n",
      "train_f1 0.47 +/- 0.01\n",
      "test_roc_auc 0.77 +/- 0.0\n",
      "train_roc_auc 0.88 +/- 0.0\n",
      "test_neg_log_loss -0.12 +/- 0.0\n",
      "train_neg_log_loss -0.1 +/- 0.0\n"
     ]
    }
   ],
   "source": [
    "for key in scores_dict.keys():\n",
    "    print(key)\n",
    "    for score in scores_dict[key]:\n",
    "        print(score,scores_dict[key][score].mean().round(2),'+/-',scores_dict[key][score].std().round(2))"
   ]
  },
  {
   "cell_type": "code",
   "execution_count": 72,
   "id": "ccdb4a6a-dfa9-4be1-8fca-1a510857a181",
   "metadata": {},
   "outputs": [],
   "source": [
    "from sklearn.linear_model import LogisticRegression\n",
    "clf = LogisticRegression(random_state=0,solver='lbfgs',max_iter=1000)\n",
    "clf.fit(X_train,y_train)\n",
    "y_train_pred=clf.predict(X_train)\n",
    "y_test_pred=clf.predict(X_test)\n",
    "\n"
   ]
  },
  {
   "cell_type": "code",
   "execution_count": 74,
   "id": "2b05747c-7b6e-43bd-8a34-466f8d8bff29",
   "metadata": {},
   "outputs": [],
   "source": [
    "# Score the model\n",
    "result={}\n",
    "from sklearn.metrics import accuracy_score\n",
    "from sklearn.metrics import f1_score\n",
    "\n",
    "result.update({'train':{'accuracy':accuracy_score(y_train, y_train_pred),\n",
    "                       'f1':f1_score(y_train, y_train_pred)}})\n",
    "\n",
    "result.update({'test':{'accuracy':accuracy_score(y_test, y_test_pred),\n",
    "                       'f1':f1_score(y_test, y_test_pred)}})\n"
   ]
  },
  {
   "cell_type": "code",
   "execution_count": 76,
   "id": "23fc76e9-e148-47a8-997b-3d0b787c7e16",
   "metadata": {},
   "outputs": [
    {
     "name": "stdout",
     "output_type": "stream",
     "text": [
      "Logistic Regression Result\n"
     ]
    },
    {
     "data": {
      "text/plain": [
       "{'train': {'accuracy': 0.9735775652455827, 'f1': 0.45702864756828776},\n",
       " 'test': {'accuracy': 0.9693639369772418, 'f1': 0.3835616438356164}}"
      ]
     },
     "execution_count": 76,
     "metadata": {},
     "output_type": "execute_result"
    }
   ],
   "source": [
    "print('Logistic Regression Result')\n",
    "result"
   ]
  },
  {
   "cell_type": "code",
   "execution_count": 77,
   "id": "728ec312-632b-4aef-8122-cb2f605cb9f1",
   "metadata": {},
   "outputs": [
    {
     "name": "stdout",
     "output_type": "stream",
     "text": [
      "Dummy Result\n"
     ]
    },
    {
     "data": {
      "text/plain": [
       "{'train': {'accuracy': 0.965051061760415, 'f1': 0.0},\n",
       " 'test': {'accuracy': 0.9645010698307722, 'f1': 0.0}}"
      ]
     },
     "execution_count": 77,
     "metadata": {},
     "output_type": "execute_result"
    }
   ],
   "source": [
    "from sklearn.dummy import DummyClassifier\n",
    "dummy_clf = DummyClassifier(strategy=\"most_frequent\")\n",
    "dummy_clf.fit(X_train, y_train)\n",
    "y_train_pred=dummy_clf.predict(X_train)\n",
    "y_test_pred=dummy_clf.predict(X_test)\n",
    "\n",
    "result_dummy={}\n",
    "from sklearn.metrics import accuracy_score\n",
    "from sklearn.metrics import f1_score\n",
    "\n",
    "result_dummy.update({'train':{'accuracy':accuracy_score(y_train, y_train_pred),\n",
    "                       'f1':f1_score(y_train, y_train_pred)}})\n",
    "\n",
    "result_dummy.update({'test':{'accuracy':accuracy_score(y_test, y_test_pred),\n",
    "                       'f1':f1_score(y_test, y_test_pred)}})\n",
    "print('Dummy Result')\n",
    "result_dummy"
   ]
  },
  {
   "cell_type": "code",
   "execution_count": 83,
   "id": "56dbcf94-4ec3-44bb-a11e-def22cee2512",
   "metadata": {},
   "outputs": [
    {
     "data": {
      "text/plain": [
       "0    39684\n",
       "1     1443\n",
       "Name: HIV_active, dtype: int64"
      ]
     },
     "execution_count": 83,
     "metadata": {},
     "output_type": "execute_result"
    }
   ],
   "source": [
    "df['HIV_active'].value_counts()"
   ]
  },
  {
   "cell_type": "code",
   "execution_count": 84,
   "id": "5e1dc09c-e773-4329-ac02-a3cb8d7444f0",
   "metadata": {},
   "outputs": [
    {
     "data": {
      "text/plain": [
       "0    0.964914\n",
       "1    0.035086\n",
       "Name: HIV_active, dtype: float64"
      ]
     },
     "execution_count": 84,
     "metadata": {},
     "output_type": "execute_result"
    }
   ],
   "source": [
    "df['HIV_active'].value_counts()/df.shape[0]"
   ]
  },
  {
   "cell_type": "code",
   "execution_count": null,
   "id": "8c4c3143-1bc1-41dc-918b-12e4c25756d3",
   "metadata": {},
   "outputs": [],
   "source": [
    "# pickle the model\n",
    "with open('model_pkl', 'wb') as files:\n",
    "    pickle.dump(model, files)"
   ]
  }
 ],
 "metadata": {
  "kernelspec": {
   "display_name": "Python 3 (ipykernel)",
   "language": "python",
   "name": "python3"
  },
  "language_info": {
   "codemirror_mode": {
    "name": "ipython",
    "version": 3
   },
   "file_extension": ".py",
   "mimetype": "text/x-python",
   "name": "python",
   "nbconvert_exporter": "python",
   "pygments_lexer": "ipython3",
   "version": "3.9.12"
  },
  "vscode": {
   "interpreter": {
    "hash": "4c4f4359cbd00efd9da0914ac51ba55447235b2a8439e4bf567804ab1066f578"
   }
  }
 },
 "nbformat": 4,
 "nbformat_minor": 5
}
