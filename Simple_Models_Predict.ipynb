{
 "cells": [
  {
   "cell_type": "code",
   "execution_count": 1,
   "id": "a787fdcb-6d5c-4fa5-81e6-9c12ff667564",
   "metadata": {},
   "outputs": [],
   "source": [
    "import pandas as pd\n",
    "import numpy as np\n",
    "from tqdm import tqdm\n",
    "tqdm.pandas()\n",
    "import os\n",
    "import pickle\n",
    "import pandas as pd\n",
    "\n",
    "from src.utils.generate_morgan_fp import generate_fingerprint"
   ]
  },
  {
   "cell_type": "code",
   "execution_count": 27,
   "id": "f8c9b1db-ab54-47cf-893a-844c8f272b9f",
   "metadata": {},
   "outputs": [],
   "source": [
    "datasets=[i for i in os.listdir('data_split_cleaned') if i[-4:]=='.csv']\n",
    "\n",
    "simple_models_path='Simple_Models'\n",
    "model_paths=[i for i in os.listdir('Simple_Models')if (i!='.ipynb_checkpoints') and (i!='Predictions')]\n",
    "data_set_path='data_split_cleaned'"
   ]
  },
  {
   "cell_type": "code",
   "execution_count": 28,
   "id": "40695448-42d2-446d-9dc0-feff164678e3",
   "metadata": {},
   "outputs": [
    {
     "data": {
      "text/plain": [
       "['sol_del-cluster',\n",
       " 'HIV-random',\n",
       " 'bace-random',\n",
       " 'HIV-cluster',\n",
       " 'deepchem_Lipophilicity-cluster',\n",
       " 'tox21-cluster',\n",
       " 'deepchem_Lipophilicity-random',\n",
       " 'tox21-random',\n",
       " 'clintox-cluster',\n",
       " 'clintox-random',\n",
       " 'sol_del-random',\n",
       " 'bace-cluster']"
      ]
     },
     "execution_count": 28,
     "metadata": {},
     "output_type": "execute_result"
    }
   ],
   "source": [
    "model_paths"
   ]
  },
  {
   "cell_type": "code",
   "execution_count": 29,
   "id": "972fc91d-d864-47bb-8655-813eebf8a9fe",
   "metadata": {},
   "outputs": [],
   "source": [
    "data_map={\n",
    "    'HIV': {'target':'HIV_active','structure':'smiles'},\n",
    "    'bace':{'target':'active','structure':'mol'},\n",
    "    'tox21':{'target':'NR-AhR','structure':'smiles'},\n",
    "    'clintox':{'target':'CT_TOX','structure':'smiles'},\n",
    "    'sol_del':{'target':'binned_sol','structure':'smiles'},\n",
    "    'deepchem_Lipophilicity':{'target':'drug_like','structure':'smiles'}   \n",
    "}\n"
   ]
  },
  {
   "cell_type": "code",
   "execution_count": 31,
   "id": "a51e7f09-c67e-4cb2-937e-5124a59b36de",
   "metadata": {},
   "outputs": [],
   "source": [
    "# for each model/dataset pair - run the predictions on train and validate - use the predict proba function\n",
    "# Add the predictions to the dataframe and save these to a simple models predictions folder\n",
    "#load the dataset as df\n",
    "# featurize the molecules\n",
    "#load the model\n",
    "# predict proba for each model \n",
    "# save the predictions to dataframe and write it to a predictions folider in simple models"
   ]
  },
  {
   "cell_type": "code",
   "execution_count": 32,
   "id": "ba26218c-01b5-45b8-92c2-e89aec316f12",
   "metadata": {},
   "outputs": [
    {
     "name": "stdout",
     "output_type": "stream",
     "text": [
      "sol_del-cluster\n",
      "HIV-random\n"
     ]
    },
    {
     "name": "stderr",
     "output_type": "stream",
     "text": [
      "[21:16:48] WARNING: not removing hydrogen atom without neighbors\n",
      "[21:16:48] WARNING: not removing hydrogen atom without neighbors\n"
     ]
    },
    {
     "name": "stdout",
     "output_type": "stream",
     "text": [
      "bace-random\n",
      "HIV-cluster\n"
     ]
    },
    {
     "name": "stderr",
     "output_type": "stream",
     "text": [
      "[21:19:29] WARNING: not removing hydrogen atom without neighbors\n",
      "[21:19:29] WARNING: not removing hydrogen atom without neighbors\n"
     ]
    },
    {
     "name": "stdout",
     "output_type": "stream",
     "text": [
      "deepchem_Lipophilicity-cluster\n",
      "tox21-cluster\n"
     ]
    },
    {
     "name": "stderr",
     "output_type": "stream",
     "text": [
      "[21:21:21] WARNING: not removing hydrogen atom without neighbors\n"
     ]
    },
    {
     "name": "stdout",
     "output_type": "stream",
     "text": [
      "deepchem_Lipophilicity-random\n",
      "tox21-random\n"
     ]
    },
    {
     "name": "stderr",
     "output_type": "stream",
     "text": [
      "[21:21:36] WARNING: not removing hydrogen atom without neighbors\n"
     ]
    },
    {
     "name": "stdout",
     "output_type": "stream",
     "text": [
      "clintox-cluster\n",
      "clintox-random\n",
      "sol_del-random\n",
      "bace-cluster\n"
     ]
    }
   ],
   "source": [
    "for path in model_paths:\n",
    "    print(path)\n",
    "    dataset=path.split('-')[0]\n",
    "    split_type=path.split('-')[1]\n",
    "    models=[i for i in os.listdir(os.path.join(simple_models_path,path)) if i[-4:]=='.pkl']\n",
    "    \n",
    "    # locate the datasets to predict:\n",
    "    val_path=os.path.join(data_set_path,f'{dataset}-{split_type}-validate.csv')\n",
    "    train_path=os.path.join(data_set_path,f'{dataset}-{split_type}-train.csv')\n",
    "    \n",
    "    smiles_col=data_map[dataset]['structure']\n",
    "    # read in the dataframes:\n",
    "    val_df = pd.read_csv(val_path)\n",
    "    train_df = pd.read_csv(train_path)\n",
    "    # featurize the datafreams:\n",
    "    val_df['fp']=val_df[smiles_col].apply(lambda x: generate_fingerprint(x,2,1024))\n",
    "    train_df['fp']=train_df[smiles_col].apply(lambda x: generate_fingerprint(x,2,1024))\n",
    "    val_df.dropna(subset=['fp'],inplace=True)\n",
    "    train_df.dropna(subset=['fp'],inplace=True)\n",
    "    \n",
    "    X_val=val_df['fp'].to_list()\n",
    "    X_train=train_df['fp'].to_list()\n",
    "    \n",
    "    # loop over the models - load them, predict on the X\n",
    "    for model in models:\n",
    "        model_loc=os.path.join(simple_models_path,path,model)\n",
    "        model_name=model.replace('_model.pkl','')\n",
    "        with open(model_loc,'rb') as file:\n",
    "            clf = pickle.load(file)\n",
    "            val_df[f'{model_name}_prediction']=[i[1] for i in clf.predict_proba(X_val)]\n",
    "            train_df[f'{model_name}_prediction']=[i[1] for i in clf.predict_proba(X_train)]\n",
    "    # save the predictions for each dataset:\n",
    "    val_df.to_csv(os.path.join('Simple_Models/Predictions',f'{dataset}-{split_type}-validate-pred.csv'))\n",
    "    train_df.to_csv(os.path.join('Simple_Models/Predictions',f'{dataset}-{split_type}-train-pred.csv'))\n",
    "                  \n"
   ]
  },
  {
   "cell_type": "code",
   "execution_count": null,
   "id": "619ad469-8a36-4f78-8a0a-cc999365862f",
   "metadata": {},
   "outputs": [],
   "source": []
  }
 ],
 "metadata": {
  "kernelspec": {
   "display_name": "Python 3 (ipykernel)",
   "language": "python",
   "name": "python3"
  },
  "language_info": {
   "codemirror_mode": {
    "name": "ipython",
    "version": 3
   },
   "file_extension": ".py",
   "mimetype": "text/x-python",
   "name": "python",
   "nbconvert_exporter": "python",
   "pygments_lexer": "ipython3",
   "version": "3.10.5"
  }
 },
 "nbformat": 4,
 "nbformat_minor": 5
}
