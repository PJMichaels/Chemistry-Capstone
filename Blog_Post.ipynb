{
 "cells": [
  {
   "cell_type": "markdown",
   "metadata": {},
   "source": [
    "### Chemistry Capstone (Project Name Placeholder)\n",
    "\n",
    "Introduction:\n",
    "\n",
    "\n",
    "Outline:\n",
    "\n",
    "1) Drug discovery and it's challenges:\n",
    "- Cost\n",
    "- Regulations\n",
    "- Complex Biology (animal models vs human etc..)\n",
    "\n",
    "2) Small molecules\n",
    "- What are they\n",
    "- Why are they so common\n",
    "- Further elaborate on what qualifies as a small molecule vs biologic\n",
    "\n",
    "3) Introduce our project goals\n",
    "- Machine learning in chemistry - ChemProp, etc..\n",
    "- Challenges with these models (environment, compute, etc..)\n",
    "- Talk about comparing simple models to complex\n",
    "- Talk about how hard it is to get clean data in chemistry....\n",
    "- What are our datasets and how did we get them\n",
    "- How do these datasets solve a drug discovery problem\n",
    "- What are some challenges with each specific dataset\n",
    "\n",
    "\n",
    "\n",
    "Drug discovery is an incredibly challenging field of research with X** amount of investment per year towards new drugs [find reference]. \n",
    "\n",
    "The cost of drug discovery comes primarily from the amount of research that must be done to not only ensure new drug entities are effective for their intended purpose, but also that their safety profile is developed for human consumption. Both of these requirements are heavily regulated by the FDA (any other world health authorities??). ***This line of writing leads into certain drug property challenges and eventually into a good introduction point for our datasets, why they are relevant, and maybe what some challenges are with each of these.\n",
    "\n",
    "Definitey need to make a note of the fact that getting these datasets for new drug targets can be one of the biggest limitations for AI in drug discovery.\n",
    "\n",
    "The majority of perscription and over the counter drugs on the market today are comprised of at least one small molecule active pharmaceutical ingredient (API).[reference?] Active pharmaceutical ingredients are, as titled, the component in a pill that has a therapeutic affect on the patient. \n",
    "\n",
    "A small molecule refers to a substance which has a molecular make-up of less than or equal to 500 atomic units [is this correct or maybe this should be 1000da???, a reference would be good]. "
   ]
  },
  {
   "cell_type": "markdown",
   "metadata": {},
   "source": []
  }
 ],
 "metadata": {
  "kernelspec": {
   "display_name": "Python 3.9.13 ('chem39')",
   "language": "python",
   "name": "python3"
  },
  "language_info": {
   "name": "python",
   "version": "3.9.13"
  },
  "orig_nbformat": 4,
  "vscode": {
   "interpreter": {
    "hash": "13d23def5312c58a18488f106c23183de2ea1274f8e965396f8b86880f405ced"
   }
  }
 },
 "nbformat": 4,
 "nbformat_minor": 2
}
