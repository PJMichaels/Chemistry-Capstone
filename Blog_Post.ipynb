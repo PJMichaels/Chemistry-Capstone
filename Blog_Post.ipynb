{
 "cells": [
  {
   "cell_type": "markdown",
   "metadata": {},
   "source": [
    "### Chemistry Capstone (Project Name Placeholder)\n",
    "\n",
    "Introduction:\n",
    "\n",
    "Drug discovery is an incredibly challenging field of research with X** amount of investment per year towards new drugs [find reference]. \n",
    "\n",
    "The cost of drug discovery comes primarily from the amount of research that must be done to not only ensure new drug entities are effective for their intended purpose, but also that their safety profile is developed for human consumption. Both of these requirements are heavily regulated by the FDA (any other world health authorities??). ***This line of writing leads into certain drug property challenges and eventually into a good introduction point for our datasets, why they are relevant, and maybe what some challenges are with each of these.\n",
    "\n",
    "Definitey need to make a note of the fact that getting these datasets for new drug targets can be one of the biggest limitations for AI in drug discovery.\n",
    "\n",
    "The majority of perscription and over the counter drugs on the market today are comprised of at least one small molecule active pharmaceutical ingredient (API).[reference?] Active pharmaceutical ingredients are, as titled, the component in a pill that has a therapeutic affect on the patient. \n",
    "\n",
    "A small molecule refers to a substance which has a molecular make-up of less than or equal to 500 atomic units [is this correct or maybe this should be 1000da???, a reference would be good]. "
   ]
  },
  {
   "cell_type": "markdown",
   "metadata": {},
   "source": []
  }
 ],
 "metadata": {
  "language_info": {
   "name": "python"
  },
  "orig_nbformat": 4
 },
 "nbformat": 4,
 "nbformat_minor": 2
}
