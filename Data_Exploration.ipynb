{
 "cells": [
  {
   "cell_type": "code",
   "execution_count": 3,
   "id": "dfaf5f58-5526-4c99-b524-7120fa39bf32",
   "metadata": {},
   "outputs": [],
   "source": [
    "import pandas as pd\n",
    "import seaborn as sns\n",
    "import os"
   ]
  },
  {
   "cell_type": "code",
   "execution_count": 4,
   "id": "b154d0aa-7572-4acb-bc19-0b7ed47719f5",
   "metadata": {},
   "outputs": [
    {
     "data": {
      "text/plain": [
       "['sider.csv.gz',\n",
       " 'deepchem_Lipophilicity.csv',\n",
       " 'clintox.csv.gz.dvc',\n",
       " 'HIV.csv.dvc',\n",
       " 'deepchem_PPB.csv',\n",
       " 'HIV.csv',\n",
       " 'Solubility_delaney-processed.csv',\n",
       " 'BBBP.csv.dvc',\n",
       " 'muv.csv.gz.dvc',\n",
       " 'Solubility_delaney-processed.csv.dvc',\n",
       " '.gitignore',\n",
       " 'sider.csv.gz.dvc',\n",
       " 'Free_Solv_SAMPL.csv.dvc',\n",
       " 'bace.csv.dvc',\n",
       " 'tox21.csv.gz',\n",
       " 'BBBP.csv',\n",
       " '.ipynb_checkpoints',\n",
       " 'deepchem_PPB_details.txt',\n",
       " 'clintox.csv.gz',\n",
       " 'bace.csv',\n",
       " 'deepchem_Lipophilicity.csv.dvc',\n",
       " 'deepchem_Lipophilicity_details.txt',\n",
       " 'Free_Solv_SAMPL.csv',\n",
       " 'muv.csv.gz',\n",
       " 'deepchem_PPB.csv.dvc']"
      ]
     },
     "execution_count": 4,
     "metadata": {},
     "output_type": "execute_result"
    }
   ],
   "source": [
    "os.listdir('data')"
   ]
  },
  {
   "cell_type": "code",
   "execution_count": 5,
   "id": "be944026-3fe6-446d-a408-55b6e55176e3",
   "metadata": {},
   "outputs": [],
   "source": [
    "datasets=['bace.csv','BBBP.csv','PPB.csv']"
   ]
  },
  {
   "cell_type": "code",
   "execution_count": 7,
   "id": "d9322097-d62d-4573-9a5e-2d608914e0b6",
   "metadata": {},
   "outputs": [],
   "source": [
    "df=pd.read_csv('data/HIV.csv')"
   ]
  },
  {
   "cell_type": "code",
   "execution_count": 8,
   "id": "278a0e56-1bb3-4f4d-8d13-4702f0f67c6c",
   "metadata": {},
   "outputs": [
    {
     "data": {
      "text/html": [
       "<div>\n",
       "<style scoped>\n",
       "    .dataframe tbody tr th:only-of-type {\n",
       "        vertical-align: middle;\n",
       "    }\n",
       "\n",
       "    .dataframe tbody tr th {\n",
       "        vertical-align: top;\n",
       "    }\n",
       "\n",
       "    .dataframe thead th {\n",
       "        text-align: right;\n",
       "    }\n",
       "</style>\n",
       "<table border=\"1\" class=\"dataframe\">\n",
       "  <thead>\n",
       "    <tr style=\"text-align: right;\">\n",
       "      <th></th>\n",
       "      <th>smiles</th>\n",
       "      <th>activity</th>\n",
       "      <th>HIV_active</th>\n",
       "    </tr>\n",
       "  </thead>\n",
       "  <tbody>\n",
       "    <tr>\n",
       "      <th>0</th>\n",
       "      <td>CCC1=[O+][Cu-3]2([O+]=C(CC)C1)[O+]=C(CC)CC(CC)...</td>\n",
       "      <td>CI</td>\n",
       "      <td>0</td>\n",
       "    </tr>\n",
       "    <tr>\n",
       "      <th>1</th>\n",
       "      <td>C(=Cc1ccccc1)C1=[O+][Cu-3]2([O+]=C(C=Cc3ccccc3...</td>\n",
       "      <td>CI</td>\n",
       "      <td>0</td>\n",
       "    </tr>\n",
       "    <tr>\n",
       "      <th>2</th>\n",
       "      <td>CC(=O)N1c2ccccc2Sc2c1ccc1ccccc21</td>\n",
       "      <td>CI</td>\n",
       "      <td>0</td>\n",
       "    </tr>\n",
       "    <tr>\n",
       "      <th>3</th>\n",
       "      <td>Nc1ccc(C=Cc2ccc(N)cc2S(=O)(=O)O)c(S(=O)(=O)O)c1</td>\n",
       "      <td>CI</td>\n",
       "      <td>0</td>\n",
       "    </tr>\n",
       "    <tr>\n",
       "      <th>4</th>\n",
       "      <td>O=S(=O)(O)CCS(=O)(=O)O</td>\n",
       "      <td>CI</td>\n",
       "      <td>0</td>\n",
       "    </tr>\n",
       "  </tbody>\n",
       "</table>\n",
       "</div>"
      ],
      "text/plain": [
       "                                              smiles activity  HIV_active\n",
       "0  CCC1=[O+][Cu-3]2([O+]=C(CC)C1)[O+]=C(CC)CC(CC)...       CI           0\n",
       "1  C(=Cc1ccccc1)C1=[O+][Cu-3]2([O+]=C(C=Cc3ccccc3...       CI           0\n",
       "2                   CC(=O)N1c2ccccc2Sc2c1ccc1ccccc21       CI           0\n",
       "3    Nc1ccc(C=Cc2ccc(N)cc2S(=O)(=O)O)c(S(=O)(=O)O)c1       CI           0\n",
       "4                             O=S(=O)(O)CCS(=O)(=O)O       CI           0"
      ]
     },
     "execution_count": 8,
     "metadata": {},
     "output_type": "execute_result"
    }
   ],
   "source": [
    "df.head(5)"
   ]
  },
  {
   "cell_type": "code",
   "execution_count": 10,
   "id": "929305b2-39cc-4a30-a5c2-6919b2698197",
   "metadata": {},
   "outputs": [
    {
     "data": {
      "text/plain": [
       "HIV_active\n",
       "0    39684\n",
       "1     1443\n",
       "dtype: int64"
      ]
     },
     "execution_count": 10,
     "metadata": {},
     "output_type": "execute_result"
    }
   ],
   "source": [
    "df.value_counts('HIV_active')"
   ]
  },
  {
   "cell_type": "code",
   "execution_count": 13,
   "id": "578b7c95-efc4-4627-aa29-c20061f5e9cc",
   "metadata": {},
   "outputs": [
    {
     "data": {
      "text/plain": [
       "smiles        0\n",
       "activity      0\n",
       "HIV_active    0\n",
       "dtype: int64"
      ]
     },
     "execution_count": 13,
     "metadata": {},
     "output_type": "execute_result"
    }
   ],
   "source": [
    "df.isna().sum()"
   ]
  },
  {
   "cell_type": "code",
   "execution_count": 11,
   "id": "1a0b3801-c5f3-4cc0-ac97-29ffccdff8c4",
   "metadata": {},
   "outputs": [
    {
     "data": {
      "text/plain": [
       "<AxesSubplot:xlabel='HIV_active', ylabel='Count'>"
      ]
     },
     "execution_count": 11,
     "metadata": {},
     "output_type": "execute_result"
    },
    {
     "data": {
      "image/png": "[encoded data removed]",
      "text/plain": [
       "<Figure size 432x288 with 1 Axes>"
      ]
     },
     "metadata": {
      "needs_background": "light"
     },
     "output_type": "display_data"
    }
   ],
   "source": [
    "sns.histplot(df,x='HIV_active')"
   ]
  },
  {
   "cell_type": "code",
   "execution_count": 12,
   "id": "de010f90-66ee-42dc-ada1-40be66246005",
   "metadata": {},
   "outputs": [],
   "source": [
    "#To do- build dictionary of dataset:target column\n",
    "#Convert data sets with regression problems into classification ones\n",
    "# EDA: class balance, clustering? to assess chemical variability?\n",
    "# check for missing values\n"
   ]
  },
  {
   "cell_type": "code",
   "execution_count": 14,
   "id": "76ef13a8-48f4-49a9-8451-aa56c3bc7c4b",
   "metadata": {},
   "outputs": [],
   "source": [
    "# add simple features? (LogP, MW/#heavy atoms,others? - look for correlation?"
   ]
  },
  {
   "cell_type": "code",
   "execution_count": null,
   "id": "acbf4186-b110-4a43-a994-515a96ab6851",
   "metadata": {},
   "outputs": [],
   "source": []
  }
 ],
 "metadata": {
  "kernelspec": {
   "display_name": "Python 3 (ipykernel)",
   "language": "python",
   "name": "python3"
  },
  "language_info": {
   "codemirror_mode": {
    "name": "ipython",
    "version": 3
   },
   "file_extension": ".py",
   "mimetype": "text/x-python",
   "name": "python",
   "nbconvert_exporter": "python",
   "pygments_lexer": "ipython3",
   "version": "3.10.5"
  }
 },
 "nbformat": 4,
 "nbformat_minor": 5
}
